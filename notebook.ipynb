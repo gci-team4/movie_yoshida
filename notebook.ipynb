{
 "cells": [
  {
   "cell_type": "markdown",
   "metadata": {
    "_cell_guid": "12110ed7-61c4-489c-b121-2bc993162856",
    "_execution_state": "idle",
    "_uuid": "58cc9290957c3a15436167cefb72cb5a0e1521de"
   },
   "source": [
    "# **Film recommendation engine**\n",
    "*Fabien Daniel (July 2017)*\n",
    "___\n",
    "This notebook aims at building a recommendation engine from the content of the TMDB dataset that contains around 5000 movies and TV series.Basically, the engine will work as follows: after the user has provided the name of a film he liked, the engine should be able to select in the database a list of 5 films that the user will enjoy. In practice, recommendation engines are of three kinds:\n",
    "- **popularity-based** engines: usually the most simple to implement be also the most impersonal\n",
    "- **content-based** engines: the recommendations are based on the description of the products\n",
    "- **collaborative filtering** engines: records from various users provide recommendations based on user similarities\n",
    "\n",
    "In the current case, since the dataset only describe the content of the films and TV series, collaborative filtering is excluded and I will thus build an engine that uses both the content and the popularity of the entries.\n",
    "___\n",
    "_**Acknowledgement**: many thanks to [J. Abécassis](https://www.kaggle.com/judithabk6) for the advices and help provided during the writing of this notebook_ <br>\n",
    "_In september 2017, the original dataset used by this kernel was replaced. [Sohier Dane](https://www.kaggle.com/sohier) did all the job to adapt the original kernel to the new format and the modifications are described in [this kernel](https://www.kaggle.com/sohier/film-recommendation-engine-converted-to-use-tmdb). Many thanks to Sohier for doing this !_\n",
    "___\n",
    "This notebook is organized as follows:\n",
    "\n",
    "**1. Exploration**\n",
    "- 1.1 Keywords\n",
    "- 1.2 Filling factor: missing values\n",
    "- 1.3 Number of films per year\n",
    "- 1.4 Genres\n",
    "\n",
    "** 2. Cleaning**\n",
    "- 2.1 Cleaning of the keywords\n",
    "    * 2.1.1 Grouping by roots\n",
    "    * 2.1.2 Groups of synonyms\n",
    "- 2.2 Correlations\n",
    "- 2.3 Missing values\n",
    "    * 2.3.1 Setting missing title years\n",
    "    * 2.3.2 Extracting keywords from the title\n",
    "    * 2.3.3 Imputing from regressions\n",
    "    \n",
    "**3. Recommendation Engine**\n",
    "- 3.1 Basic functioning of the engine \n",
    "    * 3.1.1 Similarity\n",
    "    * 3.1.2 Popularity\n",
    "- 3.2 Definition of the recommendation engine functions\n",
    "- 3.3 Making meaningfull recommendations\n",
    "- 3.4 Exemple of recommendation: test-case\n",
    "\n",
    "**4. Conclusion: possible improvements and points to adress**\n",
    "\n"
   ]
  },
  {
   "cell_type": "markdown",
   "metadata": {
    "_cell_guid": "c5033d2e-b634-4e86-8432-1ce567123818",
    "_uuid": "9bda582d9b59fc16a387fd6d2ede814d6fc8cc37"
   },
   "source": [
    "___\n",
    "## 1. Exploration\n",
    "\n",
    " First, we define a few functions to create an interface with the new structure of the dataset.\n",
    " The code below is entirely taken from [Sohier's kernel](https://www.kaggle.com/sohier/film-recommendation-engine-converted-to-use-tmdb):"
   ]
  },
  {
   "cell_type": "code",
   "execution_count": 5,
   "metadata": {
    "_cell_guid": "e121398c-9c5b-40d1-95d7-b3ca0e2fff92",
    "_kg_hide-input": true,
    "_uuid": "e19eb613f3978a99d12d4455ec9cbd2cad192bfb",
    "collapsed": true
   },
   "outputs": [],
   "source": [
    "import json\n",
    "import pandas as pd\n",
    "#___________________________\n",
    "def load_tmdb_movies(path):\n",
    "    df = pd.read_csv(path)\n",
    "    df['release_date'] = pd.to_datetime(df['release_date']).apply(lambda x: x.date())\n",
    "    json_columns = ['genres', 'keywords', 'production_countries',\n",
    "                    'production_companies', 'spoken_languages']\n",
    "    for column in json_columns:\n",
    "        df[column] = df[column].apply(json.loads)\n",
    "    return df\n",
    "#___________________________\n",
    "def load_tmdb_credits(path):\n",
    "    df = pd.read_csv(path)\n",
    "    json_columns = ['cast', 'crew']\n",
    "    for column in json_columns:\n",
    "        df[column] = df[column].apply(json.loads)\n",
    "    return df\n",
    "#___________________\n",
    "LOST_COLUMNS = [\n",
    "    'actor_1_facebook_likes',\n",
    "    'actor_2_facebook_likes',\n",
    "    'actor_3_facebook_likes',\n",
    "    'aspect_ratio',\n",
    "    'cast_total_facebook_likes',\n",
    "    'color',\n",
    "    'content_rating',\n",
    "    'director_facebook_likes',\n",
    "    'facenumber_in_poster',\n",
    "    'movie_facebook_likes',\n",
    "    'movie_imdb_link',\n",
    "    'num_critic_for_reviews',\n",
    "    'num_user_for_reviews']\n",
    "#____________________________________\n",
    "TMDB_TO_IMDB_SIMPLE_EQUIVALENCIES = {\n",
    "    'budget': 'budget',\n",
    "    'genres': 'genres',\n",
    "    'revenue': 'gross',\n",
    "    'title': 'movie_title',\n",
    "    'runtime': 'duration',\n",
    "    'original_language': 'language',\n",
    "    'keywords': 'plot_keywords',\n",
    "    'vote_count': 'num_voted_users'}\n",
    "#_____________________________________________________\n",
    "IMDB_COLUMNS_TO_REMAP = {'imdb_score': 'vote_average'}\n",
    "#_____________________________________________________\n",
    "def safe_access(container, index_values):\n",
    "    # return missing value rather than an error upon indexing/key failure\n",
    "    result = container\n",
    "    try:\n",
    "        for idx in index_values:\n",
    "            result = result[idx]\n",
    "        return result\n",
    "    except IndexError or KeyError:\n",
    "        return pd.np.nan\n",
    "#_____________________________________________________\n",
    "def get_director(crew_data):\n",
    "    directors = [x['name'] for x in crew_data if x['job'] == 'Director']\n",
    "    return safe_access(directors, [0])\n",
    "#_____________________________________________________\n",
    "def pipe_flatten_names(keywords):\n",
    "    return '|'.join([x['name'] for x in keywords])\n",
    "#_____________________________________________________\n",
    "def convert_to_original_format(movies, credits):\n",
    "    tmdb_movies = movies.copy()\n",
    "    tmdb_movies.rename(columns=TMDB_TO_IMDB_SIMPLE_EQUIVALENCIES, inplace=True)\n",
    "    tmdb_movies['title_year'] = pd.to_datetime(tmdb_movies['release_date']).apply(lambda x: x.year)\n",
    "    # I'm assuming that the first production country is equivalent, but have not been able to validate this\n",
    "    tmdb_movies['country'] = tmdb_movies['production_countries'].apply(lambda x: safe_access(x, [0, 'name']))\n",
    "    tmdb_movies['language'] = tmdb_movies['spoken_languages'].apply(lambda x: safe_access(x, [0, 'name']))\n",
    "    tmdb_movies['director_name'] = credits['crew'].apply(get_director)\n",
    "    tmdb_movies['actor_1_name'] = credits['cast'].apply(lambda x: safe_access(x, [1, 'name']))\n",
    "    tmdb_movies['actor_2_name'] = credits['cast'].apply(lambda x: safe_access(x, [2, 'name']))\n",
    "    tmdb_movies['actor_3_name'] = credits['cast'].apply(lambda x: safe_access(x, [3, 'name']))\n",
    "    tmdb_movies['genres'] = tmdb_movies['genres'].apply(pipe_flatten_names)\n",
    "    tmdb_movies['plot_keywords'] = tmdb_movies['plot_keywords'].apply(pipe_flatten_names)\n",
    "    return tmdb_movies"
   ]
  },
  {
   "cell_type": "markdown",
   "metadata": {
    "_cell_guid": "ec41f176-8b45-4f9b-b992-6436596fb9b2",
    "_uuid": "f5b4e89721d20b0e27e005128adc026953170fff"
   },
   "source": [
    "Then, I load in a single place all the packages that will be used throughout the notebook and then load the dataset. Then, I give some information on the columns types and the number of missing values."
   ]
  },
  {
   "cell_type": "code",
   "execution_count": 2,
   "metadata": {
    "_cell_guid": "06a32a6a-d1e0-44a2-a805-e0ba2fca88a1",
    "_kg_hide-input": true,
    "_uuid": "52dd6d7abd66732939abcbef03cd9f95c2fe11b6"
   },
   "outputs": [
    {
     "name": "stdout",
     "output_type": "stream",
     "text": [
      "tmdb_5000_credits.csv\n",
      "tmdb_5000_movies.csv\n",
      "\n"
     ]
    }
   ],
   "source": [
    "from subprocess import check_output\n",
    "print(check_output([\"ls\", \"tmdb-5000-movie-dataset/\"]).decode(\"utf8\"))"
   ]
  },
  {
   "cell_type": "code",
   "execution_count": 7,
   "metadata": {
    "_cell_guid": "1e4af250-2809-40cb-afc8-7b4ab9a3f8b4",
    "_execution_state": "idle",
    "_kg_hide-input": true,
    "_uuid": "d0e85d63468e4a059b675964a183e3055eff8511",
    "scrolled": false
   },
   "outputs": [
    {
     "name": "stdout",
     "output_type": "stream",
     "text": [
      "Shape: (4803, 26)\n"
     ]
    },
    {
     "data": {
      "text/html": [
       "<div>\n",
       "<style>\n",
       "    .dataframe thead tr:only-child th {\n",
       "        text-align: right;\n",
       "    }\n",
       "\n",
       "    .dataframe thead th {\n",
       "        text-align: left;\n",
       "    }\n",
       "\n",
       "    .dataframe tbody tr th {\n",
       "        vertical-align: top;\n",
       "    }\n",
       "</style>\n",
       "<table border=\"1\" class=\"dataframe\">\n",
       "  <thead>\n",
       "    <tr style=\"text-align: right;\">\n",
       "      <th></th>\n",
       "      <th>budget</th>\n",
       "      <th>genres</th>\n",
       "      <th>homepage</th>\n",
       "      <th>id</th>\n",
       "      <th>plot_keywords</th>\n",
       "      <th>language</th>\n",
       "      <th>original_title</th>\n",
       "      <th>overview</th>\n",
       "      <th>popularity</th>\n",
       "      <th>production_companies</th>\n",
       "      <th>production_countries</th>\n",
       "      <th>release_date</th>\n",
       "      <th>gross</th>\n",
       "      <th>duration</th>\n",
       "      <th>spoken_languages</th>\n",
       "      <th>status</th>\n",
       "      <th>tagline</th>\n",
       "      <th>movie_title</th>\n",
       "      <th>vote_average</th>\n",
       "      <th>num_voted_users</th>\n",
       "      <th>title_year</th>\n",
       "      <th>country</th>\n",
       "      <th>director_name</th>\n",
       "      <th>actor_1_name</th>\n",
       "      <th>actor_2_name</th>\n",
       "      <th>actor_3_name</th>\n",
       "    </tr>\n",
       "  </thead>\n",
       "  <tbody>\n",
       "    <tr>\n",
       "      <th>column type</th>\n",
       "      <td>int64</td>\n",
       "      <td>object</td>\n",
       "      <td>object</td>\n",
       "      <td>int64</td>\n",
       "      <td>object</td>\n",
       "      <td>object</td>\n",
       "      <td>object</td>\n",
       "      <td>object</td>\n",
       "      <td>float64</td>\n",
       "      <td>object</td>\n",
       "      <td>object</td>\n",
       "      <td>object</td>\n",
       "      <td>int64</td>\n",
       "      <td>float64</td>\n",
       "      <td>object</td>\n",
       "      <td>object</td>\n",
       "      <td>object</td>\n",
       "      <td>object</td>\n",
       "      <td>float64</td>\n",
       "      <td>int64</td>\n",
       "      <td>float64</td>\n",
       "      <td>object</td>\n",
       "      <td>object</td>\n",
       "      <td>object</td>\n",
       "      <td>object</td>\n",
       "      <td>object</td>\n",
       "    </tr>\n",
       "    <tr>\n",
       "      <th>null values</th>\n",
       "      <td>0</td>\n",
       "      <td>0</td>\n",
       "      <td>3091</td>\n",
       "      <td>0</td>\n",
       "      <td>0</td>\n",
       "      <td>86</td>\n",
       "      <td>0</td>\n",
       "      <td>3</td>\n",
       "      <td>0</td>\n",
       "      <td>0</td>\n",
       "      <td>0</td>\n",
       "      <td>1</td>\n",
       "      <td>0</td>\n",
       "      <td>2</td>\n",
       "      <td>0</td>\n",
       "      <td>0</td>\n",
       "      <td>844</td>\n",
       "      <td>0</td>\n",
       "      <td>0</td>\n",
       "      <td>0</td>\n",
       "      <td>1</td>\n",
       "      <td>174</td>\n",
       "      <td>30</td>\n",
       "      <td>53</td>\n",
       "      <td>63</td>\n",
       "      <td>93</td>\n",
       "    </tr>\n",
       "    <tr>\n",
       "      <th>null values (%)</th>\n",
       "      <td>0</td>\n",
       "      <td>0</td>\n",
       "      <td>64.3556</td>\n",
       "      <td>0</td>\n",
       "      <td>0</td>\n",
       "      <td>1.79055</td>\n",
       "      <td>0</td>\n",
       "      <td>0.062461</td>\n",
       "      <td>0</td>\n",
       "      <td>0</td>\n",
       "      <td>0</td>\n",
       "      <td>0.0208203</td>\n",
       "      <td>0</td>\n",
       "      <td>0.0416406</td>\n",
       "      <td>0</td>\n",
       "      <td>0</td>\n",
       "      <td>17.5724</td>\n",
       "      <td>0</td>\n",
       "      <td>0</td>\n",
       "      <td>0</td>\n",
       "      <td>0.0208203</td>\n",
       "      <td>3.62274</td>\n",
       "      <td>0.62461</td>\n",
       "      <td>1.10348</td>\n",
       "      <td>1.31168</td>\n",
       "      <td>1.93629</td>\n",
       "    </tr>\n",
       "  </tbody>\n",
       "</table>\n",
       "</div>"
      ],
      "text/plain": [
       "                budget  genres homepage     id plot_keywords language  \\\n",
       "column type      int64  object   object  int64        object   object   \n",
       "null values          0       0     3091      0             0       86   \n",
       "null values (%)      0       0  64.3556      0             0  1.79055   \n",
       "\n",
       "                original_title  overview popularity production_companies  \\\n",
       "column type             object    object    float64               object   \n",
       "null values                  0         3          0                    0   \n",
       "null values (%)              0  0.062461          0                    0   \n",
       "\n",
       "                production_countries release_date  gross   duration  \\\n",
       "column type                   object       object  int64    float64   \n",
       "null values                        0            1      0          2   \n",
       "null values (%)                    0    0.0208203      0  0.0416406   \n",
       "\n",
       "                spoken_languages  status  tagline movie_title vote_average  \\\n",
       "column type               object  object   object      object      float64   \n",
       "null values                    0       0      844           0            0   \n",
       "null values (%)                0       0  17.5724           0            0   \n",
       "\n",
       "                num_voted_users title_year  country director_name  \\\n",
       "column type               int64    float64   object        object   \n",
       "null values                   0          1      174            30   \n",
       "null values (%)               0  0.0208203  3.62274       0.62461   \n",
       "\n",
       "                actor_1_name actor_2_name actor_3_name  \n",
       "column type           object       object       object  \n",
       "null values               53           63           93  \n",
       "null values (%)      1.10348      1.31168      1.93629  "
      ]
     },
     "execution_count": 7,
     "metadata": {},
     "output_type": "execute_result"
    }
   ],
   "source": [
    "import numpy as np\n",
    "import matplotlib as mpl\n",
    "import matplotlib.pyplot as plt\n",
    "import seaborn as sns\n",
    "import math, nltk, warnings\n",
    "from nltk.corpus import wordnet\n",
    "from sklearn import linear_model\n",
    "from sklearn.neighbors import NearestNeighbors\n",
    "from fuzzywuzzy import fuzz\n",
    "from wordcloud import WordCloud, STOPWORDS\n",
    "plt.rcParams[\"patch.force_edgecolor\"] = True\n",
    "plt.style.use('fivethirtyeight')\n",
    "mpl.rc('patch', edgecolor = 'dimgray', linewidth=1)\n",
    "from IPython.core.interactiveshell import InteractiveShell\n",
    "InteractiveShell.ast_node_interactivity = \"last_expr\"\n",
    "pd.options.display.max_columns = 50\n",
    "%matplotlib inline\n",
    "warnings.filterwarnings('ignore')\n",
    "PS = nltk.stem.PorterStemmer()\n",
    "#__________________\n",
    "# load the dataset\n",
    "credits = load_tmdb_credits(\"tmdb-5000-movie-dataset//tmdb_5000_credits.csv\")\n",
    "movies = load_tmdb_movies(\"tmdb-5000-movie-dataset//tmdb_5000_movies.csv\")\n",
    "df_initial = convert_to_original_format(movies, credits)\n",
    "print('Shape:',df_initial.shape)\n",
    "#__________________________________________\n",
    "# info on variable types and filling factor\n",
    "tab_info=pd.DataFrame(df_initial.dtypes).T.rename(index={0:'column type'})\n",
    "tab_info=tab_info.append(pd.DataFrame(df_initial.isnull().sum()).T.rename(index={0:'null values'}))\n",
    "tab_info=tab_info.append(pd.DataFrame(df_initial.isnull().sum()/df_initial.shape[0]*100).T.\n",
    "                         rename(index={0:'null values (%)'}))\n",
    "tab_info"
   ]
  },
  {
   "cell_type": "markdown",
   "metadata": {
    "_cell_guid": "8df2466f-4f0b-41f2-8e12-bc5ac3f8ed38",
    "_uuid": "8e8eb02bfe046b1b6b25f4bafe09346108e4d275"
   },
   "source": [
    "___\n",
    "### 1.1 Keywords"
   ]
  },
  {
   "cell_type": "markdown",
   "metadata": {
    "_cell_guid": "a6529f26-82f8-4d8d-a44a-5b8d8066d156",
    "_uuid": "3f6970af97fefeff98fe56834bbbc59a4bfcf49e"
   },
   "source": [
    "To develop the recommendation engine, I plan to make an extensive use of the keywords that describe the films. Indeed, a basic assumption is that films described by similar keywords should have similar contents. Hence, I plan to have a close look at the way keywords are defined and as a first step, I quickly characterize what's already in there. To do so, I first list the keywords which are in the dataset:"
   ]
  },
  {
   "cell_type": "code",
   "execution_count": 8,
   "metadata": {
    "_cell_guid": "faff47cb-32ec-44e0-9a8c-1596beb278e9",
    "_execution_state": "idle",
    "_kg_hide-input": true,
    "_uuid": "b345e2711ec7a4740bbcc9ff60e6136895ede89f"
   },
   "outputs": [],
   "source": [
    "set_keywords = set()\n",
    "for liste_keywords in df_initial['plot_keywords'].str.split('|').values:\n",
    "    if isinstance(liste_keywords, float): continue  # only happen if liste_keywords = NaN\n",
    "    set_keywords = set_keywords.union(liste_keywords)\n",
    "#_________________________\n",
    "# remove null chain entry\n",
    "set_keywords.remove('')"
   ]
  },
  {
   "cell_type": "markdown",
   "metadata": {
    "_cell_guid": "e6979e54-4118-4e69-84dd-98d65b2b4574",
    "_uuid": "1d95387b7e27aded359c4a85c85ed5587fff9498"
   },
   "source": [
    "and then define a function that counts the number of times each of them appear:"
   ]
  },
  {
   "cell_type": "code",
   "execution_count": 9,
   "metadata": {
    "_cell_guid": "967d942e-6217-49d0-b8b8-7fe1b207ae25",
    "_execution_state": "idle",
    "_kg_hide-input": true,
    "_uuid": "ac1b82ed313891dbc2c6d094761224cfafb420fd",
    "collapsed": true
   },
   "outputs": [],
   "source": [
    "def count_word(df, ref_col, liste):\n",
    "    keyword_count = dict()\n",
    "    for s in liste: keyword_count[s] = 0\n",
    "    for liste_keywords in df[ref_col].str.split('|'):        \n",
    "        if type(liste_keywords) == float and pd.isnull(liste_keywords): continue        \n",
    "        for s in [s for s in liste_keywords if s in liste]: \n",
    "            if pd.notnull(s): keyword_count[s] += 1\n",
    "    #______________________________________________________________________\n",
    "    # convert the dictionary in a list to sort the keywords by frequency\n",
    "    keyword_occurences = []\n",
    "    for k,v in keyword_count.items():\n",
    "        keyword_occurences.append([k,v])\n",
    "    keyword_occurences.sort(key = lambda x:x[1], reverse = True)\n",
    "    return keyword_occurences, keyword_count"
   ]
  },
  {
   "cell_type": "markdown",
   "metadata": {
    "_cell_guid": "90f90d47-35a2-4873-975b-4229287a3ca5",
    "_uuid": "ead32eb2c4d82521fb99eab26f9b6c901270c012"
   },
   "source": [
    "Note that this function will be used again in other sections of this notebook, when exploring the content of the *'genres'* variable and subsequently, when cleaning the keywords. Finally, calling this function gives access to a list of keywords which are sorted by decreasing frequency:"
   ]
  },
  {
   "cell_type": "code",
   "execution_count": 10,
   "metadata": {
    "_cell_guid": "b97262b8-6bc4-4d6b-b435-beaecd57c730",
    "_execution_state": "idle",
    "_kg_hide-input": true,
    "_uuid": "c24235201ef028a66b581e106b8454674d28cb91"
   },
   "outputs": [
    {
     "data": {
      "text/plain": [
       "[['woman director', 324],\n",
       " ['independent film', 318],\n",
       " ['duringcreditsstinger', 307],\n",
       " ['based on novel', 197],\n",
       " ['murder', 189]]"
      ]
     },
     "execution_count": 10,
     "metadata": {},
     "output_type": "execute_result"
    }
   ],
   "source": [
    "keyword_occurences, dum = count_word(df_initial, 'plot_keywords', set_keywords)\n",
    "keyword_occurences[:5]"
   ]
  },
  {
   "cell_type": "markdown",
   "metadata": {
    "_cell_guid": "6c8ef6c4-2551-4465-b8a1-cbda94ebfdf6",
    "_uuid": "e1f9a4d185f926a97c5cd0162fce6531f85c4a81"
   },
   "source": [
    "At this stage, the list of keywords has been created and we know the number of times each of them appear in the dataset. In fact, this list can be used  to have a feeling of the content of the *most popular movies*. A fancy manner to give that information makes use of the *wordcloud* package. In this kind of representation, all the words are arranged in a figure with sizes that depend on their respective frequencies. Instead of a wordcloud, we can use histograms to give the same information. This allows to have a figure where the keywords are ordered by occurence and most importantly, this gives the number of times they appear, an information that can not be retrieved from the wordcloud representation. In the following figure, I compare both types of representations:"
   ]
  },
  {
   "cell_type": "code",
   "execution_count": 21,
   "metadata": {
    "_cell_guid": "687534d1-4930-4c87-a19f-6ada504e9eba",
    "_execution_state": "idle",
    "_kg_hide-input": true,
    "_uuid": "66a8dfa956a5987577e17979fcdc4a9f20905ec3"
   },
   "outputs": [
    {
     "ename": "IndexError",
     "evalue": "string index out of range",
     "output_type": "error",
     "traceback": [
      "\u001b[0;31m---------------------------------------------------------------------------\u001b[0m",
      "\u001b[0;31mIndexError\u001b[0m                                Traceback (most recent call last)",
      "\u001b[0;32m<ipython-input-21-938ad2332a8e>\u001b[0m in \u001b[0;36m<module>\u001b[0;34m()\u001b[0m\n\u001b[1;32m     26\u001b[0m                       \u001b[0mmax_words\u001b[0m\u001b[0;34m=\u001b[0m\u001b[0;36m1628\u001b[0m\u001b[0;34m,\u001b[0m\u001b[0mrelative_scaling\u001b[0m\u001b[0;34m=\u001b[0m\u001b[0;36m1\u001b[0m\u001b[0;34m,\u001b[0m\u001b[0;34m\u001b[0m\u001b[0m\n\u001b[1;32m     27\u001b[0m                       color_func = random_color_func)\n\u001b[0;32m---> 28\u001b[0;31m \u001b[0mwordcloud\u001b[0m\u001b[0;34m.\u001b[0m\u001b[0mgenerate_from_frequencies\u001b[0m\u001b[0;34m(\u001b[0m\u001b[0mwords\u001b[0m\u001b[0;34m)\u001b[0m\u001b[0;34m\u001b[0m\u001b[0m\n\u001b[0m\u001b[1;32m     29\u001b[0m \u001b[0max1\u001b[0m\u001b[0;34m.\u001b[0m\u001b[0mimshow\u001b[0m\u001b[0;34m(\u001b[0m\u001b[0mwordcloud\u001b[0m\u001b[0;34m,\u001b[0m \u001b[0minterpolation\u001b[0m\u001b[0;34m=\u001b[0m\u001b[0;34m\"bilinear\"\u001b[0m\u001b[0;34m)\u001b[0m\u001b[0;34m\u001b[0m\u001b[0m\n\u001b[1;32m     30\u001b[0m \u001b[0max1\u001b[0m\u001b[0;34m.\u001b[0m\u001b[0maxis\u001b[0m\u001b[0;34m(\u001b[0m\u001b[0;34m'off'\u001b[0m\u001b[0;34m)\u001b[0m\u001b[0;34m\u001b[0m\u001b[0m\n",
      "\u001b[0;32m//anaconda/lib/python3.5/site-packages/wordcloud/wordcloud.py\u001b[0m in \u001b[0;36mgenerate_from_frequencies\u001b[0;34m(self, frequencies)\u001b[0m\n\u001b[1;32m    266\u001b[0m         \"\"\"\n\u001b[1;32m    267\u001b[0m         \u001b[0;31m# make sure frequencies are sorted and normalized\u001b[0m\u001b[0;34m\u001b[0m\u001b[0;34m\u001b[0m\u001b[0m\n\u001b[0;32m--> 268\u001b[0;31m         \u001b[0mfrequencies\u001b[0m \u001b[0;34m=\u001b[0m \u001b[0msorted\u001b[0m\u001b[0;34m(\u001b[0m\u001b[0mfrequencies\u001b[0m\u001b[0;34m,\u001b[0m \u001b[0mkey\u001b[0m\u001b[0;34m=\u001b[0m\u001b[0mitem1\u001b[0m\u001b[0;34m,\u001b[0m \u001b[0mreverse\u001b[0m\u001b[0;34m=\u001b[0m\u001b[0;32mTrue\u001b[0m\u001b[0;34m)\u001b[0m\u001b[0;34m\u001b[0m\u001b[0m\n\u001b[0m\u001b[1;32m    269\u001b[0m         \u001b[0mfrequencies\u001b[0m \u001b[0;34m=\u001b[0m \u001b[0mfrequencies\u001b[0m\u001b[0;34m[\u001b[0m\u001b[0;34m:\u001b[0m\u001b[0mself\u001b[0m\u001b[0;34m.\u001b[0m\u001b[0mmax_words\u001b[0m\u001b[0;34m]\u001b[0m\u001b[0;34m\u001b[0m\u001b[0m\n\u001b[1;32m    270\u001b[0m         \u001b[0;31m# largest entry will be 1\u001b[0m\u001b[0;34m\u001b[0m\u001b[0;34m\u001b[0m\u001b[0m\n",
      "\u001b[0;31mIndexError\u001b[0m: string index out of range"
     ]
    },
    {
     "data": {
      "image/png": "[encoded data removed]",
      "text/plain": [
       "<matplotlib.figure.Figure at 0x122e35160>"
      ]
     },
     "metadata": {},
     "output_type": "display_data"
    }
   ],
   "source": [
    "#_____________________________________________\n",
    "# Function that control the color of the words\n",
    "#!!!!!!!!!!!!!!!!!!!!!!!!!!!!!!!!!!!!!!!!!!!!!!!!!!!!!!!!!!!!!!!!!!!!!!!!!!!!!!!!\n",
    "# WARNING: the scope of variables is used to get the value of the \"tone\" variable\n",
    "# I could not find the way to pass it as a parameter of \"random_color_func()\"\n",
    "#!!!!!!!!!!!!!!!!!!!!!!!!!!!!!!!!!!!!!!!!!!!!!!!!!!!!!!!!!!!!!!!!!!!!!!!!!!!!!!!!\n",
    "def random_color_func(word=None, font_size=None, position=None,\n",
    "                      orientation=None, font_path=None, random_state=None):\n",
    "    h = int(360.0 * tone / 255.0)\n",
    "    s = int(100.0 * 255.0 / 255.0)\n",
    "    l = int(100.0 * float(random_state.randint(70, 120)) / 255.0)\n",
    "    return \"hsl({}, {}%, {}%)\".format(h, s, l)\n",
    "#_____________________________________________\n",
    "# UPPER PANEL: WORDCLOUD\n",
    "fig = plt.figure(1, figsize=(18,13))\n",
    "ax1 = fig.add_subplot(2,1,1)\n",
    "#_______________________________________________________\n",
    "# I define the dictionary used to produce the wordcloud\n",
    "words = dict()\n",
    "trunc_occurences = keyword_occurences[0:50]\n",
    "for s in trunc_occurences:\n",
    "    words[s[0]] = s[1]\n",
    "tone = 55.0 # define the color of the words\n",
    "#________________________________________________________\n",
    "wordcloud = WordCloud(width=1000,height=300, background_color='black', \n",
    "                      max_words=1628,relative_scaling=1,\n",
    "                      color_func = random_color_func)\n",
    "wordcloud.generate_from_frequencies(words)\n",
    "ax1.imshow(wordcloud, interpolation=\"bilinear\")\n",
    "ax1.axis('off')\n",
    "#_____________________________________________\n",
    "# LOWER PANEL: HISTOGRAMS\n",
    "ax2 = fig.add_subplot(2,1,2)\n",
    "y_axis = [i[1] for i in trunc_occurences]\n",
    "x_axis = [k for k,i in enumerate(trunc_occurences)]\n",
    "x_label = [i[0] for i in trunc_occurences]\n",
    "plt.xticks(rotation=85, fontsize = 15)\n",
    "plt.yticks(fontsize = 15)\n",
    "plt.xticks(x_axis, x_label)\n",
    "plt.ylabel(\"Nb. of occurences\", fontsize = 18, labelpad = 10)\n",
    "ax2.bar(x_axis, y_axis, align = 'center', color='g')\n",
    "#_______________________\n",
    "plt.title(\"Keywords popularity\",bbox={'facecolor':'k', 'pad':5},color='w',fontsize = 25)\n",
    "plt.show()"
   ]
  },
  {
   "cell_type": "markdown",
   "metadata": {
    "_cell_guid": "20b4ced7-1aca-44ef-b8e1-799384ef329a",
    "_uuid": "12c260e242c5433415d892a93b7f751492617dca"
   },
   "source": [
    "___\n",
    "### 1.2 Filling factor: missing values\n",
    "\n",
    "The dataset consists in 5043 films or TV series which are described by 28 variables. As in every analysis, at some point, we will have to deal with the missing values and as a first step, I determine the amount of data which is missing in every variable:"
   ]
  },
  {
   "cell_type": "code",
   "execution_count": 13,
   "metadata": {
    "_cell_guid": "12a13c39-207a-4d5b-84bc-e37d95c2a912",
    "_kg_hide-input": true,
    "_uuid": "98f87045ea4beff3b823f9bbeb048ff69a9d98e2"
   },
   "outputs": [
    {
     "data": {
      "text/html": [
       "<div>\n",
       "<style>\n",
       "    .dataframe thead tr:only-child th {\n",
       "        text-align: right;\n",
       "    }\n",
       "\n",
       "    .dataframe thead th {\n",
       "        text-align: left;\n",
       "    }\n",
       "\n",
       "    .dataframe tbody tr th {\n",
       "        vertical-align: top;\n",
       "    }\n",
       "</style>\n",
       "<table border=\"1\" class=\"dataframe\">\n",
       "  <thead>\n",
       "    <tr style=\"text-align: right;\">\n",
       "      <th></th>\n",
       "      <th>column_name</th>\n",
       "      <th>missing_count</th>\n",
       "      <th>filling_factor</th>\n",
       "    </tr>\n",
       "  </thead>\n",
       "  <tbody>\n",
       "    <tr>\n",
       "      <th>0</th>\n",
       "      <td>homepage</td>\n",
       "      <td>3091</td>\n",
       "      <td>35.644389</td>\n",
       "    </tr>\n",
       "    <tr>\n",
       "      <th>1</th>\n",
       "      <td>tagline</td>\n",
       "      <td>844</td>\n",
       "      <td>82.427649</td>\n",
       "    </tr>\n",
       "    <tr>\n",
       "      <th>2</th>\n",
       "      <td>country</td>\n",
       "      <td>174</td>\n",
       "      <td>96.377264</td>\n",
       "    </tr>\n",
       "    <tr>\n",
       "      <th>3</th>\n",
       "      <td>actor_3_name</td>\n",
       "      <td>93</td>\n",
       "      <td>98.063710</td>\n",
       "    </tr>\n",
       "    <tr>\n",
       "      <th>4</th>\n",
       "      <td>language</td>\n",
       "      <td>86</td>\n",
       "      <td>98.209452</td>\n",
       "    </tr>\n",
       "    <tr>\n",
       "      <th>5</th>\n",
       "      <td>actor_2_name</td>\n",
       "      <td>63</td>\n",
       "      <td>98.688320</td>\n",
       "    </tr>\n",
       "    <tr>\n",
       "      <th>6</th>\n",
       "      <td>actor_1_name</td>\n",
       "      <td>53</td>\n",
       "      <td>98.896523</td>\n",
       "    </tr>\n",
       "    <tr>\n",
       "      <th>7</th>\n",
       "      <td>director_name</td>\n",
       "      <td>30</td>\n",
       "      <td>99.375390</td>\n",
       "    </tr>\n",
       "    <tr>\n",
       "      <th>8</th>\n",
       "      <td>overview</td>\n",
       "      <td>3</td>\n",
       "      <td>99.937539</td>\n",
       "    </tr>\n",
       "    <tr>\n",
       "      <th>9</th>\n",
       "      <td>duration</td>\n",
       "      <td>2</td>\n",
       "      <td>99.958359</td>\n",
       "    </tr>\n",
       "    <tr>\n",
       "      <th>10</th>\n",
       "      <td>title_year</td>\n",
       "      <td>1</td>\n",
       "      <td>99.979180</td>\n",
       "    </tr>\n",
       "    <tr>\n",
       "      <th>11</th>\n",
       "      <td>release_date</td>\n",
       "      <td>1</td>\n",
       "      <td>99.979180</td>\n",
       "    </tr>\n",
       "    <tr>\n",
       "      <th>12</th>\n",
       "      <td>num_voted_users</td>\n",
       "      <td>0</td>\n",
       "      <td>100.000000</td>\n",
       "    </tr>\n",
       "    <tr>\n",
       "      <th>13</th>\n",
       "      <td>vote_average</td>\n",
       "      <td>0</td>\n",
       "      <td>100.000000</td>\n",
       "    </tr>\n",
       "    <tr>\n",
       "      <th>14</th>\n",
       "      <td>movie_title</td>\n",
       "      <td>0</td>\n",
       "      <td>100.000000</td>\n",
       "    </tr>\n",
       "    <tr>\n",
       "      <th>15</th>\n",
       "      <td>budget</td>\n",
       "      <td>0</td>\n",
       "      <td>100.000000</td>\n",
       "    </tr>\n",
       "    <tr>\n",
       "      <th>16</th>\n",
       "      <td>spoken_languages</td>\n",
       "      <td>0</td>\n",
       "      <td>100.000000</td>\n",
       "    </tr>\n",
       "    <tr>\n",
       "      <th>17</th>\n",
       "      <td>production_countries</td>\n",
       "      <td>0</td>\n",
       "      <td>100.000000</td>\n",
       "    </tr>\n",
       "    <tr>\n",
       "      <th>18</th>\n",
       "      <td>production_companies</td>\n",
       "      <td>0</td>\n",
       "      <td>100.000000</td>\n",
       "    </tr>\n",
       "    <tr>\n",
       "      <th>19</th>\n",
       "      <td>popularity</td>\n",
       "      <td>0</td>\n",
       "      <td>100.000000</td>\n",
       "    </tr>\n",
       "    <tr>\n",
       "      <th>20</th>\n",
       "      <td>original_title</td>\n",
       "      <td>0</td>\n",
       "      <td>100.000000</td>\n",
       "    </tr>\n",
       "    <tr>\n",
       "      <th>21</th>\n",
       "      <td>plot_keywords</td>\n",
       "      <td>0</td>\n",
       "      <td>100.000000</td>\n",
       "    </tr>\n",
       "    <tr>\n",
       "      <th>22</th>\n",
       "      <td>id</td>\n",
       "      <td>0</td>\n",
       "      <td>100.000000</td>\n",
       "    </tr>\n",
       "    <tr>\n",
       "      <th>23</th>\n",
       "      <td>genres</td>\n",
       "      <td>0</td>\n",
       "      <td>100.000000</td>\n",
       "    </tr>\n",
       "    <tr>\n",
       "      <th>24</th>\n",
       "      <td>status</td>\n",
       "      <td>0</td>\n",
       "      <td>100.000000</td>\n",
       "    </tr>\n",
       "    <tr>\n",
       "      <th>25</th>\n",
       "      <td>gross</td>\n",
       "      <td>0</td>\n",
       "      <td>100.000000</td>\n",
       "    </tr>\n",
       "  </tbody>\n",
       "</table>\n",
       "</div>"
      ],
      "text/plain": [
       "             column_name  missing_count  filling_factor\n",
       "0               homepage           3091       35.644389\n",
       "1                tagline            844       82.427649\n",
       "2                country            174       96.377264\n",
       "3           actor_3_name             93       98.063710\n",
       "4               language             86       98.209452\n",
       "5           actor_2_name             63       98.688320\n",
       "6           actor_1_name             53       98.896523\n",
       "7          director_name             30       99.375390\n",
       "8               overview              3       99.937539\n",
       "9               duration              2       99.958359\n",
       "10            title_year              1       99.979180\n",
       "11          release_date              1       99.979180\n",
       "12       num_voted_users              0      100.000000\n",
       "13          vote_average              0      100.000000\n",
       "14           movie_title              0      100.000000\n",
       "15                budget              0      100.000000\n",
       "16      spoken_languages              0      100.000000\n",
       "17  production_countries              0      100.000000\n",
       "18  production_companies              0      100.000000\n",
       "19            popularity              0      100.000000\n",
       "20        original_title              0      100.000000\n",
       "21         plot_keywords              0      100.000000\n",
       "22                    id              0      100.000000\n",
       "23                genres              0      100.000000\n",
       "24                status              0      100.000000\n",
       "25                 gross              0      100.000000"
      ]
     },
     "execution_count": 13,
     "metadata": {},
     "output_type": "execute_result"
    }
   ],
   "source": [
    "missing_df = df_initial.isnull().sum(axis=0).reset_index()\n",
    "missing_df.columns = ['column_name', 'missing_count']\n",
    "missing_df['filling_factor'] = (df_initial.shape[0] \n",
    "                                - missing_df['missing_count']) / df_initial.shape[0] * 100\n",
    "missing_df.sort_values('filling_factor').reset_index(drop = True)"
   ]
  },
  {
   "cell_type": "markdown",
   "metadata": {
    "_cell_guid": "bd8d7a6a-e81e-414a-816e-12de72394fab",
    "_uuid": "b2c96e18d56cc71862ec7b98a79b68ba147cd3ba"
   },
   "source": [
    "We can see that most of the variables are well filled since only 2 of them have a filling factor below 93%."
   ]
  },
  {
   "cell_type": "markdown",
   "metadata": {
    "_cell_guid": "e312d4f4-4887-458a-ac4f-ffa43c83d8c1",
    "_uuid": "0bbd998612332a6f20da3d123a42fd267d928795"
   },
   "source": [
    "___\n",
    "### 1.3 Number of films per year"
   ]
  },
  {
   "cell_type": "markdown",
   "metadata": {
    "_cell_guid": "56b5904c-e64f-4c29-9d54-f8dcd21cc2de",
    "_uuid": "ebbb301e42d23c1b6448b133c0bfc31f25aaccd6"
   },
   "source": [
    "The **title_year** variable indicates when films were released. In order to have a global look at the way films are distributed according to this variable, I group the films by decades:"
   ]
  },
  {
   "cell_type": "code",
   "execution_count": 16,
   "metadata": {
    "_cell_guid": "cb9c0079-813c-43dd-82e5-a419fc248b54",
    "_execution_state": "idle",
    "_kg_hide-input": true,
    "_uuid": "4d31554e7683baa153157092bb721091cac8a599",
    "collapsed": true
   },
   "outputs": [],
   "source": [
    "df_initial['decade'] = df_initial['title_year'].apply(lambda x:((x-1900)//10)*10)\n",
    "#__________________________________________________________________\n",
    "# function that extract statistical parameters from a grouby objet:\n",
    "def get_stats(gr):\n",
    "    return {'min':gr.min(),'max':gr.max(),'count': gr.count(),'mean':gr.mean()}\n",
    "#______________________________________________________________\n",
    "# Creation of a dataframe with statitical infos on each decade:\n",
    "test = df_initial['title_year'].groupby(df_initial['decade']).apply(get_stats).unstack()"
   ]
  },
  {
   "cell_type": "markdown",
   "metadata": {
    "_cell_guid": "e4c397a6-92a1-445e-b479-4ba6ae91358e",
    "_uuid": "4960cd4eebd0ff77014ad56fe6c3f3510a9bc4ca"
   },
   "source": [
    "and represent the results in a pie chart:"
   ]
  },
  {
   "cell_type": "code",
   "execution_count": 17,
   "metadata": {
    "_cell_guid": "26d9c015-c900-4843-9c71-5976e580c70f",
    "_execution_state": "idle",
    "_kg_hide-input": true,
    "_uuid": "51a04eb63529f7552ba60c0cb0cd21de4ea80978"
   },
   "outputs": [
    {
     "data": {
      "image/png": "[encoded data removed]",
      "text/plain": [
       "<matplotlib.figure.Figure at 0x122e2d4e0>"
      ]
     },
     "metadata": {},
     "output_type": "display_data"
    }
   ],
   "source": [
    "sns.set_context(\"poster\", font_scale=0.85)\n",
    "#_______________________________\n",
    "# funtion used to set the labels\n",
    "def label(s):\n",
    "    val = (1900 + s, s)[s < 100]\n",
    "    chaine = '' if s < 50 else \"{}'s\".format(int(val))\n",
    "    return chaine\n",
    "#____________________________________\n",
    "plt.rc('font', weight='bold')\n",
    "f, ax = plt.subplots(figsize=(11, 6))\n",
    "labels = [label(s) for s in  test.index]\n",
    "sizes  = test['count'].values\n",
    "explode = [0.2 if sizes[i] < 100 else 0.01 for i in range(11)]\n",
    "ax.pie(sizes, explode = explode, labels=labels,\n",
    "       autopct = lambda x:'{:1.0f}%'.format(x) if x > 1 else '',\n",
    "       shadow=False, startangle=0)\n",
    "ax.axis('equal')\n",
    "ax.set_title('% of films per decade',\n",
    "             bbox={'facecolor':'k', 'pad':5},color='w', fontsize=16);\n",
    "df_initial.drop('decade', axis=1, inplace = True)"
   ]
  },
  {
   "cell_type": "markdown",
   "metadata": {
    "_cell_guid": "b36bdcca-b93e-48da-9b6d-9b57cd7e5438",
    "_uuid": "1e4246012eafcad44861046fffa8d72faf16df3c"
   },
   "source": [
    "___\n",
    "### 1.4 Genres"
   ]
  },
  {
   "cell_type": "markdown",
   "metadata": {
    "_cell_guid": "b6903dcb-ec86-4030-b30e-9e02a2c9bf19",
    "_uuid": "dccd6736257491b6eed0e62fd2769b73c8c5ff21"
   },
   "source": [
    "The **genres** variable will surely be important while building the recommendation engines since it describes the content of the film (i.e. Drama, Comedy, Action, ...). To see exactly which genres are the most popular, I use the same approach than for the keywords (hence using similar lines of code), first making a census of the genres:"
   ]
  },
  {
   "cell_type": "code",
   "execution_count": 18,
   "metadata": {
    "_cell_guid": "c197648d-541b-4b50-b7f2-6accf02b5c4b",
    "_execution_state": "idle",
    "_kg_hide-input": true,
    "_uuid": "0bad725974f487bfd59bc83b9c3ab6b87e8e3db4",
    "collapsed": true
   },
   "outputs": [],
   "source": [
    "genre_labels = set()\n",
    "for s in df_initial['genres'].str.split('|').values:\n",
    "    genre_labels = genre_labels.union(set(s))"
   ]
  },
  {
   "cell_type": "markdown",
   "metadata": {
    "_cell_guid": "20f128d8-ba23-4eed-813e-54a8e0605b73",
    "_uuid": "6f0c6aff62d4487aa8062089b03a0746ab61062b"
   },
   "source": [
    "and then counting how many times each of them occur:"
   ]
  },
  {
   "cell_type": "code",
   "execution_count": 19,
   "metadata": {
    "_cell_guid": "313cfdcf-ac91-4eec-ada9-3ec9e2ea15ef",
    "_execution_state": "idle",
    "_kg_hide-input": true,
    "_uuid": "74ba8cbae89e5948d79ecf27682888dada29638e"
   },
   "outputs": [
    {
     "data": {
      "text/plain": [
       "[['Drama', 2297],\n",
       " ['Comedy', 1722],\n",
       " ['Thriller', 1274],\n",
       " ['Action', 1154],\n",
       " ['Romance', 894]]"
      ]
     },
     "execution_count": 19,
     "metadata": {},
     "output_type": "execute_result"
    }
   ],
   "source": [
    "keyword_occurences, dum = count_word(df_initial, 'genres', genre_labels)\n",
    "keyword_occurences[:5]"
   ]
  },
  {
   "cell_type": "markdown",
   "metadata": {
    "_cell_guid": "8aed2009-1224-4498-9816-b5724f87a3f1",
    "_uuid": "219418cf3a50c21fe04d74c02ffdffd768c25fbf"
   },
   "source": [
    "Finally, the result is shown as a wordcloud:"
   ]
  },
  {
   "cell_type": "code",
   "execution_count": 22,
   "metadata": {
    "_cell_guid": "171e21ce-79d4-42a7-b66f-bc88b3b1030b",
    "_execution_state": "idle",
    "_kg_hide-input": true,
    "_uuid": "d10282c2993c6d45cbb496bb47e235f9bb0d5360"
   },
   "outputs": [
    {
     "ename": "TypeError",
     "evalue": "__init__() got an unexpected keyword argument 'normalize_plurals'",
     "output_type": "error",
     "traceback": [
      "\u001b[0;31m---------------------------------------------------------------------------\u001b[0m",
      "\u001b[0;31mTypeError\u001b[0m                                 Traceback (most recent call last)",
      "\u001b[0;32m<ipython-input-22-2fc23cea0d10>\u001b[0m in \u001b[0;36m<module>\u001b[0;34m()\u001b[0m\n\u001b[1;32m      8\u001b[0m                       \u001b[0mmax_words\u001b[0m\u001b[0;34m=\u001b[0m\u001b[0;36m1628\u001b[0m\u001b[0;34m,\u001b[0m\u001b[0mrelative_scaling\u001b[0m\u001b[0;34m=\u001b[0m\u001b[0;36m0.7\u001b[0m\u001b[0;34m,\u001b[0m\u001b[0;34m\u001b[0m\u001b[0m\n\u001b[1;32m      9\u001b[0m                       \u001b[0mcolor_func\u001b[0m \u001b[0;34m=\u001b[0m \u001b[0mrandom_color_func\u001b[0m\u001b[0;34m,\u001b[0m\u001b[0;34m\u001b[0m\u001b[0m\n\u001b[0;32m---> 10\u001b[0;31m                       normalize_plurals=False)\n\u001b[0m\u001b[1;32m     11\u001b[0m \u001b[0mwordcloud\u001b[0m\u001b[0;34m.\u001b[0m\u001b[0mgenerate_from_frequencies\u001b[0m\u001b[0;34m(\u001b[0m\u001b[0mwords\u001b[0m\u001b[0;34m)\u001b[0m\u001b[0;34m\u001b[0m\u001b[0m\n\u001b[1;32m     12\u001b[0m \u001b[0mplt\u001b[0m\u001b[0;34m.\u001b[0m\u001b[0mimshow\u001b[0m\u001b[0;34m(\u001b[0m\u001b[0mwordcloud\u001b[0m\u001b[0;34m,\u001b[0m \u001b[0minterpolation\u001b[0m\u001b[0;34m=\u001b[0m\u001b[0;34m\"bilinear\"\u001b[0m\u001b[0;34m)\u001b[0m\u001b[0;34m\u001b[0m\u001b[0m\n",
      "\u001b[0;31mTypeError\u001b[0m: __init__() got an unexpected keyword argument 'normalize_plurals'"
     ]
    },
    {
     "data": {
      "image/png": "[encoded data removed]",
      "text/plain": [
       "<matplotlib.figure.Figure at 0x11c383e10>"
      ]
     },
     "metadata": {},
     "output_type": "display_data"
    }
   ],
   "source": [
    "words = dict()\n",
    "trunc_occurences = keyword_occurences[0:50]\n",
    "for s in trunc_occurences:\n",
    "    words[s[0]] = s[1]\n",
    "tone = 100 # define the color of the words\n",
    "f, ax = plt.subplots(figsize=(14, 6))\n",
    "wordcloud = WordCloud(width=550,height=300, background_color='black', \n",
    "                      max_words=1628,relative_scaling=0.7,\n",
    "                      color_func = random_color_func,\n",
    "                      normalize_plurals=False)\n",
    "wordcloud.generate_from_frequencies(words)\n",
    "plt.imshow(wordcloud, interpolation=\"bilinear\")\n",
    "plt.axis('off')\n",
    "plt.show()"
   ]
  },
  {
   "cell_type": "markdown",
   "metadata": {
    "_cell_guid": "8c070672-757f-4eaf-9611-2122189692ac",
    "_execution_state": "idle",
    "_uuid": "8fddab99c6ca27d3584d03ff7c4da68d3e6636da"
   },
   "source": [
    "___\n",
    "## 2. Cleaning\n",
    "___"
   ]
  },
  {
   "cell_type": "code",
   "execution_count": 23,
   "metadata": {
    "_cell_guid": "abdcb1d3-0e87-465e-8927-d68c02e0d9c2",
    "_execution_state": "idle",
    "_kg_hide-input": true,
    "_uuid": "d6831ad743e9e2f3500fc8ca347af6dc53962fb9",
    "collapsed": true
   },
   "outputs": [],
   "source": [
    "df_duplicate_cleaned = df_initial"
   ]
  },
  {
   "cell_type": "markdown",
   "metadata": {
    "_cell_guid": "334aaf94-70d4-42a8-ad53-62a9c9b7acc4",
    "_execution_state": "idle",
    "_uuid": "0c4c124d589daa3925cfed199cc4cc7aea7022bf"
   },
   "source": [
    "___\n",
    "### 2.1 Cleaning of the keywords\n",
    "\n",
    "Keywords will play an important role in the functioning of the engine. Indeed, recommendations will be based on similarity between films and to gauge such similarities, I will look for films described by the same keywords. Hence, the content of the **plot_keywords** variable deserves some attention since it will be extensively used.\n"
   ]
  },
  {
   "cell_type": "markdown",
   "metadata": {
    "_cell_guid": "611e155c-94ed-47eb-8472-4c162e3413af",
    "_uuid": "98d69654ed8702f96b76de6ae86a42c2556356e2"
   },
   "source": [
    "___\n",
    "#### 2.1.1 Grouping by *roots*\n",
    "\n",
    "I collect the keywords that appear in the **plot\\_keywords** variable. This list is then cleaned using the NLTK package. Finally, I look for the number of occurence of the various keywords."
   ]
  },
  {
   "cell_type": "code",
   "execution_count": 24,
   "metadata": {
    "_cell_guid": "b121647d-1f5b-4f9b-af9e-6026fa53d03a",
    "_execution_state": "idle",
    "_kg_hide-input": true,
    "_uuid": "ffb44a711a765a47557b8480192cc5ccb667c331",
    "collapsed": true
   },
   "outputs": [],
   "source": [
    "# Collect the keywords\n",
    "#----------------------\n",
    "def keywords_inventory(dataframe, colonne = 'plot_keywords'):\n",
    "    PS = nltk.stem.PorterStemmer()\n",
    "    keywords_roots  = dict()  # collect the words / root\n",
    "    keywords_select = dict()  # association: root <-> keyword\n",
    "    category_keys = []\n",
    "    icount = 0\n",
    "    for s in dataframe[colonne]:\n",
    "        if pd.isnull(s): continue\n",
    "        for t in s.split('|'):\n",
    "            t = t.lower() ; racine = PS.stem(t)\n",
    "            if racine in keywords_roots:                \n",
    "                keywords_roots[racine].add(t)\n",
    "            else:\n",
    "                keywords_roots[racine] = {t}\n",
    "    \n",
    "    for s in keywords_roots.keys():\n",
    "        if len(keywords_roots[s]) > 1:  \n",
    "            min_length = 1000\n",
    "            for k in keywords_roots[s]:\n",
    "                if len(k) < min_length:\n",
    "                    clef = k ; min_length = len(k)            \n",
    "            category_keys.append(clef)\n",
    "            keywords_select[s] = clef\n",
    "        else:\n",
    "            category_keys.append(list(keywords_roots[s])[0])\n",
    "            keywords_select[s] = list(keywords_roots[s])[0]\n",
    "                   \n",
    "    print(\"Nb of keywords in variable '{}': {}\".format(colonne,len(category_keys)))\n",
    "    return category_keys, keywords_roots, keywords_select"
   ]
  },
  {
   "cell_type": "code",
   "execution_count": 25,
   "metadata": {
    "_cell_guid": "24a939ab-6556-48a4-b1aa-cb9cf35a6a6a",
    "_execution_state": "idle",
    "_kg_hide-input": true,
    "_uuid": "7136ff25d34f689e5464c3d8e33a4d720c381bea"
   },
   "outputs": [
    {
     "name": "stdout",
     "output_type": "stream",
     "text": [
      "Nb of keywords in variable 'plot_keywords': 9474\n"
     ]
    }
   ],
   "source": [
    "keywords, keywords_roots, keywords_select = keywords_inventory(df_duplicate_cleaned,\n",
    "                                                               colonne = 'plot_keywords')"
   ]
  },
  {
   "cell_type": "code",
   "execution_count": 26,
   "metadata": {
    "_cell_guid": "7542eb0b-2b92-42f5-bfd0-88dfcbe6a663",
    "_execution_state": "idle",
    "_kg_hide-input": true,
    "_uuid": "12bcc43bdd2c010dddaef2247adba337f21e95f3"
   },
   "outputs": [
    {
     "name": "stdout",
     "output_type": "stream",
     "text": [
      "1 {'freeze', 'freezing'} 2\n",
      "2 {'carjacker', 'carjacking'} 2\n",
      "3 {'poisoning', 'poison'} 2\n",
      "4 {'satanism', 'satan', 'satanic'} 3\n",
      "5 {'fighting', 'fight'} 2\n",
      "6 {'bullying', 'bully'} 2\n",
      "7 {'shrimp', 'shrimping'} 2\n",
      "8 {'double crossed', 'double cross'} 2\n",
      "9 {'gun', 'guns'} 2\n",
      "10 {'gods', 'god'} 2\n",
      "11 {'toys', 'toy'} 2\n",
      "12 {'sadist', 'sadistic'} 2\n",
      "13 {'suspension', 'suspense'} 2\n",
      "14 {'park', 'parking'} 2\n"
     ]
    }
   ],
   "source": [
    "# Plot of a sample of keywords that appear in close varieties \n",
    "#------------------------------------------------------------\n",
    "icount = 0\n",
    "for s in keywords_roots.keys():\n",
    "    if len(keywords_roots[s]) > 1: \n",
    "        icount += 1\n",
    "        if icount < 15: print(icount, keywords_roots[s], len(keywords_roots[s]))"
   ]
  },
  {
   "cell_type": "code",
   "execution_count": 27,
   "metadata": {
    "_cell_guid": "548a0283-057e-47cb-9b14-87ee10350178",
    "_execution_state": "idle",
    "_kg_hide-input": true,
    "_uuid": "d9391610e7646e1a8467b76e9b6014ac6107a4de",
    "collapsed": true
   },
   "outputs": [],
   "source": [
    "# Replacement of the keywords by the main form\n",
    "#----------------------------------------------\n",
    "def remplacement_df_keywords(df, dico_remplacement, roots = False):\n",
    "    df_new = df.copy(deep = True)\n",
    "    for index, row in df_new.iterrows():\n",
    "        chaine = row['plot_keywords']\n",
    "        if pd.isnull(chaine): continue\n",
    "        nouvelle_liste = []\n",
    "        for s in chaine.split('|'): \n",
    "            clef = PS.stem(s) if roots else s\n",
    "            if clef in dico_remplacement.keys():\n",
    "                nouvelle_liste.append(dico_remplacement[clef])\n",
    "            else:\n",
    "                nouvelle_liste.append(s)       \n",
    "        df_new.set_value(index, 'plot_keywords', '|'.join(nouvelle_liste)) \n",
    "    return df_new"
   ]
  },
  {
   "cell_type": "code",
   "execution_count": 28,
   "metadata": {
    "_cell_guid": "bb89844a-37c4-4a7b-9ce9-62d3c6f7fe2f",
    "_execution_state": "idle",
    "_kg_hide-input": true,
    "_uuid": "25bbe012af8d8b001a0d84633cb6c59521bd2d02",
    "collapsed": true
   },
   "outputs": [],
   "source": [
    "# Replacement of the keywords by the main keyword\n",
    "#-------------------------------------------------\n",
    "df_keywords_cleaned = remplacement_df_keywords(df_duplicate_cleaned, keywords_select,\n",
    "                                               roots = True)"
   ]
  },
  {
   "cell_type": "code",
   "execution_count": 29,
   "metadata": {
    "_cell_guid": "30f52dd3-43ca-4faa-a50c-de11577c9334",
    "_execution_state": "idle",
    "_kg_hide-input": true,
    "_uuid": "b48eeb3016887225e2637eba60bcab601cf276ce"
   },
   "outputs": [
    {
     "data": {
      "text/plain": [
       "[['woman director', 324],\n",
       " ['independent film', 318],\n",
       " ['duringcreditsstinger', 307],\n",
       " ['murder', 197],\n",
       " ['based on novel', 197]]"
      ]
     },
     "execution_count": 29,
     "metadata": {},
     "output_type": "execute_result"
    }
   ],
   "source": [
    "# Count of the keywords occurences\n",
    "#----------------------------------\n",
    "keywords.remove('')\n",
    "keyword_occurences, keywords_count = count_word(df_keywords_cleaned,'plot_keywords',keywords)\n",
    "keyword_occurences[:5]"
   ]
  },
  {
   "cell_type": "markdown",
   "metadata": {
    "_cell_guid": "15a9ef13-de7c-4644-8bfb-003b34b6b0c6",
    "_execution_state": "idle",
    "_uuid": "2832d640d8b3c37c83534a076c768a32b49e12f6"
   },
   "source": [
    "___\n",
    "#### 2.2.2 Groups of *synonyms*\n",
    "\n",
    "I clean the list of keywords in two steps. As a first step, I suppress the keywords that appear less that 5 times and replace them by a synomym of higher frequency. As a second step, I suppress all the keywords that appear in less than 3 films"
   ]
  },
  {
   "cell_type": "code",
   "execution_count": 30,
   "metadata": {
    "_cell_guid": "4f2c2038-f322-4b05-bffb-8319c09aeadc",
    "_execution_state": "idle",
    "_kg_hide-input": true,
    "_uuid": "0a9979a6802e4d19c3b4244768b751db32811953",
    "collapsed": true
   },
   "outputs": [],
   "source": [
    "# get the synomyms of the word 'mot_cle'\n",
    "#--------------------------------------------------------------\n",
    "def get_synonymes(mot_cle):\n",
    "    lemma = set()\n",
    "    for ss in wordnet.synsets(mot_cle):\n",
    "        for w in ss.lemma_names():\n",
    "            #_______________________________\n",
    "            # We just get the 'nouns':\n",
    "            index = ss.name().find('.')+1\n",
    "            if ss.name()[index] == 'n': lemma.add(w.lower().replace('_',' '))\n",
    "    return lemma   "
   ]
  },
  {
   "cell_type": "code",
   "execution_count": 31,
   "metadata": {
    "_cell_guid": "cb0e53b9-e2fc-4ff7-820b-a299137a4d2b",
    "_execution_state": "idle",
    "_kg_hide-input": true,
    "_uuid": "bd8db5b6f187db5ceb9c0cb84b9b8482e13a13a5"
   },
   "outputs": [
    {
     "ename": "LookupError",
     "evalue": "\n**********************************************************************\n  Resource 'corpora/wordnet' not found.  Please use the NLTK\n  Downloader to obtain the resource:  >>> nltk.download()\n  Searched in:\n    - '/Users/yoshidatomoya/nltk_data'\n    - '/usr/share/nltk_data'\n    - '/usr/local/share/nltk_data'\n    - '/usr/lib/nltk_data'\n    - '/usr/local/lib/nltk_data'\n**********************************************************************",
     "output_type": "error",
     "traceback": [
      "\u001b[0;31m---------------------------------------------------------------------------\u001b[0m",
      "\u001b[0;31mLookupError\u001b[0m                               Traceback (most recent call last)",
      "\u001b[0;32m//anaconda/lib/python3.5/site-packages/nltk/corpus/util.py\u001b[0m in \u001b[0;36m__load\u001b[0;34m(self)\u001b[0m\n\u001b[1;32m     79\u001b[0m             \u001b[0;32mexcept\u001b[0m \u001b[0mLookupError\u001b[0m \u001b[0;32mas\u001b[0m \u001b[0me\u001b[0m\u001b[0;34m:\u001b[0m\u001b[0;34m\u001b[0m\u001b[0m\n\u001b[0;32m---> 80\u001b[0;31m                 \u001b[0;32mtry\u001b[0m\u001b[0;34m:\u001b[0m \u001b[0mroot\u001b[0m \u001b[0;34m=\u001b[0m \u001b[0mnltk\u001b[0m\u001b[0;34m.\u001b[0m\u001b[0mdata\u001b[0m\u001b[0;34m.\u001b[0m\u001b[0mfind\u001b[0m\u001b[0;34m(\u001b[0m\u001b[0;34m'{}/{}'\u001b[0m\u001b[0;34m.\u001b[0m\u001b[0mformat\u001b[0m\u001b[0;34m(\u001b[0m\u001b[0mself\u001b[0m\u001b[0;34m.\u001b[0m\u001b[0msubdir\u001b[0m\u001b[0;34m,\u001b[0m \u001b[0mzip_name\u001b[0m\u001b[0;34m)\u001b[0m\u001b[0;34m)\u001b[0m\u001b[0;34m\u001b[0m\u001b[0m\n\u001b[0m\u001b[1;32m     81\u001b[0m                 \u001b[0;32mexcept\u001b[0m \u001b[0mLookupError\u001b[0m\u001b[0;34m:\u001b[0m \u001b[0;32mraise\u001b[0m \u001b[0me\u001b[0m\u001b[0;34m\u001b[0m\u001b[0m\n",
      "\u001b[0;32m//anaconda/lib/python3.5/site-packages/nltk/data.py\u001b[0m in \u001b[0;36mfind\u001b[0;34m(resource_name, paths)\u001b[0m\n\u001b[1;32m    652\u001b[0m     \u001b[0mresource_not_found\u001b[0m \u001b[0;34m=\u001b[0m \u001b[0;34m'\\n%s\\n%s\\n%s'\u001b[0m \u001b[0;34m%\u001b[0m \u001b[0;34m(\u001b[0m\u001b[0msep\u001b[0m\u001b[0;34m,\u001b[0m \u001b[0mmsg\u001b[0m\u001b[0;34m,\u001b[0m \u001b[0msep\u001b[0m\u001b[0;34m)\u001b[0m\u001b[0;34m\u001b[0m\u001b[0m\n\u001b[0;32m--> 653\u001b[0;31m     \u001b[0;32mraise\u001b[0m \u001b[0mLookupError\u001b[0m\u001b[0;34m(\u001b[0m\u001b[0mresource_not_found\u001b[0m\u001b[0;34m)\u001b[0m\u001b[0;34m\u001b[0m\u001b[0m\n\u001b[0m\u001b[1;32m    654\u001b[0m \u001b[0;34m\u001b[0m\u001b[0m\n",
      "\u001b[0;31mLookupError\u001b[0m: \n**********************************************************************\n  Resource 'corpora/wordnet.zip/wordnet/' not found.  Please use\n  the NLTK Downloader to obtain the resource:  >>> nltk.download()\n  Searched in:\n    - '/Users/yoshidatomoya/nltk_data'\n    - '/usr/share/nltk_data'\n    - '/usr/local/share/nltk_data'\n    - '/usr/lib/nltk_data'\n    - '/usr/local/lib/nltk_data'\n**********************************************************************",
      "\nDuring handling of the above exception, another exception occurred:\n",
      "\u001b[0;31mLookupError\u001b[0m                               Traceback (most recent call last)",
      "\u001b[0;32m<ipython-input-31-196f38bc4ea5>\u001b[0m in \u001b[0;36m<module>\u001b[0;34m()\u001b[0m\n\u001b[1;32m      2\u001b[0m \u001b[0;31m#---------------------------------------------------\u001b[0m\u001b[0;34m\u001b[0m\u001b[0;34m\u001b[0m\u001b[0m\n\u001b[1;32m      3\u001b[0m \u001b[0mmot_cle\u001b[0m \u001b[0;34m=\u001b[0m \u001b[0;34m'alien'\u001b[0m\u001b[0;34m\u001b[0m\u001b[0m\n\u001b[0;32m----> 4\u001b[0;31m \u001b[0mlemma\u001b[0m \u001b[0;34m=\u001b[0m \u001b[0mget_synonymes\u001b[0m\u001b[0;34m(\u001b[0m\u001b[0mmot_cle\u001b[0m\u001b[0;34m)\u001b[0m\u001b[0;34m\u001b[0m\u001b[0m\n\u001b[0m\u001b[1;32m      5\u001b[0m \u001b[0;32mfor\u001b[0m \u001b[0ms\u001b[0m \u001b[0;32min\u001b[0m \u001b[0mlemma\u001b[0m\u001b[0;34m:\u001b[0m\u001b[0;34m\u001b[0m\u001b[0m\n\u001b[1;32m      6\u001b[0m     print(' \"{:<30}\" in keywords list -> {} {}'.format(s, s in keywords,\n",
      "\u001b[0;32m<ipython-input-30-bf85a47ccc85>\u001b[0m in \u001b[0;36mget_synonymes\u001b[0;34m(mot_cle)\u001b[0m\n\u001b[1;32m      3\u001b[0m \u001b[0;32mdef\u001b[0m \u001b[0mget_synonymes\u001b[0m\u001b[0;34m(\u001b[0m\u001b[0mmot_cle\u001b[0m\u001b[0;34m)\u001b[0m\u001b[0;34m:\u001b[0m\u001b[0;34m\u001b[0m\u001b[0m\n\u001b[1;32m      4\u001b[0m     \u001b[0mlemma\u001b[0m \u001b[0;34m=\u001b[0m \u001b[0mset\u001b[0m\u001b[0;34m(\u001b[0m\u001b[0;34m)\u001b[0m\u001b[0;34m\u001b[0m\u001b[0m\n\u001b[0;32m----> 5\u001b[0;31m     \u001b[0;32mfor\u001b[0m \u001b[0mss\u001b[0m \u001b[0;32min\u001b[0m \u001b[0mwordnet\u001b[0m\u001b[0;34m.\u001b[0m\u001b[0msynsets\u001b[0m\u001b[0;34m(\u001b[0m\u001b[0mmot_cle\u001b[0m\u001b[0;34m)\u001b[0m\u001b[0;34m:\u001b[0m\u001b[0;34m\u001b[0m\u001b[0m\n\u001b[0m\u001b[1;32m      6\u001b[0m         \u001b[0;32mfor\u001b[0m \u001b[0mw\u001b[0m \u001b[0;32min\u001b[0m \u001b[0mss\u001b[0m\u001b[0;34m.\u001b[0m\u001b[0mlemma_names\u001b[0m\u001b[0;34m(\u001b[0m\u001b[0;34m)\u001b[0m\u001b[0;34m:\u001b[0m\u001b[0;34m\u001b[0m\u001b[0m\n\u001b[1;32m      7\u001b[0m             \u001b[0;31m#_______________________________\u001b[0m\u001b[0;34m\u001b[0m\u001b[0;34m\u001b[0m\u001b[0m\n",
      "\u001b[0;32m//anaconda/lib/python3.5/site-packages/nltk/corpus/util.py\u001b[0m in \u001b[0;36m__getattr__\u001b[0;34m(self, attr)\u001b[0m\n\u001b[1;32m    114\u001b[0m             \u001b[0;32mraise\u001b[0m \u001b[0mAttributeError\u001b[0m\u001b[0;34m(\u001b[0m\u001b[0;34m\"LazyCorpusLoader object has no attribute '__bases__'\"\u001b[0m\u001b[0;34m)\u001b[0m\u001b[0;34m\u001b[0m\u001b[0m\n\u001b[1;32m    115\u001b[0m \u001b[0;34m\u001b[0m\u001b[0m\n\u001b[0;32m--> 116\u001b[0;31m         \u001b[0mself\u001b[0m\u001b[0;34m.\u001b[0m\u001b[0m__load\u001b[0m\u001b[0;34m(\u001b[0m\u001b[0;34m)\u001b[0m\u001b[0;34m\u001b[0m\u001b[0m\n\u001b[0m\u001b[1;32m    117\u001b[0m         \u001b[0;31m# This looks circular, but its not, since __load() changes our\u001b[0m\u001b[0;34m\u001b[0m\u001b[0;34m\u001b[0m\u001b[0m\n\u001b[1;32m    118\u001b[0m         \u001b[0;31m# __class__ to something new:\u001b[0m\u001b[0;34m\u001b[0m\u001b[0;34m\u001b[0m\u001b[0m\n",
      "\u001b[0;32m//anaconda/lib/python3.5/site-packages/nltk/corpus/util.py\u001b[0m in \u001b[0;36m__load\u001b[0;34m(self)\u001b[0m\n\u001b[1;32m     79\u001b[0m             \u001b[0;32mexcept\u001b[0m \u001b[0mLookupError\u001b[0m \u001b[0;32mas\u001b[0m \u001b[0me\u001b[0m\u001b[0;34m:\u001b[0m\u001b[0;34m\u001b[0m\u001b[0m\n\u001b[1;32m     80\u001b[0m                 \u001b[0;32mtry\u001b[0m\u001b[0;34m:\u001b[0m \u001b[0mroot\u001b[0m \u001b[0;34m=\u001b[0m \u001b[0mnltk\u001b[0m\u001b[0;34m.\u001b[0m\u001b[0mdata\u001b[0m\u001b[0;34m.\u001b[0m\u001b[0mfind\u001b[0m\u001b[0;34m(\u001b[0m\u001b[0;34m'{}/{}'\u001b[0m\u001b[0;34m.\u001b[0m\u001b[0mformat\u001b[0m\u001b[0;34m(\u001b[0m\u001b[0mself\u001b[0m\u001b[0;34m.\u001b[0m\u001b[0msubdir\u001b[0m\u001b[0;34m,\u001b[0m \u001b[0mzip_name\u001b[0m\u001b[0;34m)\u001b[0m\u001b[0;34m)\u001b[0m\u001b[0;34m\u001b[0m\u001b[0m\n\u001b[0;32m---> 81\u001b[0;31m                 \u001b[0;32mexcept\u001b[0m \u001b[0mLookupError\u001b[0m\u001b[0;34m:\u001b[0m \u001b[0;32mraise\u001b[0m \u001b[0me\u001b[0m\u001b[0;34m\u001b[0m\u001b[0m\n\u001b[0m\u001b[1;32m     82\u001b[0m \u001b[0;34m\u001b[0m\u001b[0m\n\u001b[1;32m     83\u001b[0m         \u001b[0;31m# Load the corpus.\u001b[0m\u001b[0;34m\u001b[0m\u001b[0;34m\u001b[0m\u001b[0m\n",
      "\u001b[0;32m//anaconda/lib/python3.5/site-packages/nltk/corpus/util.py\u001b[0m in \u001b[0;36m__load\u001b[0;34m(self)\u001b[0m\n\u001b[1;32m     76\u001b[0m         \u001b[0;32melse\u001b[0m\u001b[0;34m:\u001b[0m\u001b[0;34m\u001b[0m\u001b[0m\n\u001b[1;32m     77\u001b[0m             \u001b[0;32mtry\u001b[0m\u001b[0;34m:\u001b[0m\u001b[0;34m\u001b[0m\u001b[0m\n\u001b[0;32m---> 78\u001b[0;31m                 \u001b[0mroot\u001b[0m \u001b[0;34m=\u001b[0m \u001b[0mnltk\u001b[0m\u001b[0;34m.\u001b[0m\u001b[0mdata\u001b[0m\u001b[0;34m.\u001b[0m\u001b[0mfind\u001b[0m\u001b[0;34m(\u001b[0m\u001b[0;34m'{}/{}'\u001b[0m\u001b[0;34m.\u001b[0m\u001b[0mformat\u001b[0m\u001b[0;34m(\u001b[0m\u001b[0mself\u001b[0m\u001b[0;34m.\u001b[0m\u001b[0msubdir\u001b[0m\u001b[0;34m,\u001b[0m \u001b[0mself\u001b[0m\u001b[0;34m.\u001b[0m\u001b[0m__name\u001b[0m\u001b[0;34m)\u001b[0m\u001b[0;34m)\u001b[0m\u001b[0;34m\u001b[0m\u001b[0m\n\u001b[0m\u001b[1;32m     79\u001b[0m             \u001b[0;32mexcept\u001b[0m \u001b[0mLookupError\u001b[0m \u001b[0;32mas\u001b[0m \u001b[0me\u001b[0m\u001b[0;34m:\u001b[0m\u001b[0;34m\u001b[0m\u001b[0m\n\u001b[1;32m     80\u001b[0m                 \u001b[0;32mtry\u001b[0m\u001b[0;34m:\u001b[0m \u001b[0mroot\u001b[0m \u001b[0;34m=\u001b[0m \u001b[0mnltk\u001b[0m\u001b[0;34m.\u001b[0m\u001b[0mdata\u001b[0m\u001b[0;34m.\u001b[0m\u001b[0mfind\u001b[0m\u001b[0;34m(\u001b[0m\u001b[0;34m'{}/{}'\u001b[0m\u001b[0;34m.\u001b[0m\u001b[0mformat\u001b[0m\u001b[0;34m(\u001b[0m\u001b[0mself\u001b[0m\u001b[0;34m.\u001b[0m\u001b[0msubdir\u001b[0m\u001b[0;34m,\u001b[0m \u001b[0mzip_name\u001b[0m\u001b[0;34m)\u001b[0m\u001b[0;34m)\u001b[0m\u001b[0;34m\u001b[0m\u001b[0m\n",
      "\u001b[0;32m//anaconda/lib/python3.5/site-packages/nltk/data.py\u001b[0m in \u001b[0;36mfind\u001b[0;34m(resource_name, paths)\u001b[0m\n\u001b[1;32m    651\u001b[0m     \u001b[0msep\u001b[0m \u001b[0;34m=\u001b[0m \u001b[0;34m'*'\u001b[0m \u001b[0;34m*\u001b[0m \u001b[0;36m70\u001b[0m\u001b[0;34m\u001b[0m\u001b[0m\n\u001b[1;32m    652\u001b[0m     \u001b[0mresource_not_found\u001b[0m \u001b[0;34m=\u001b[0m \u001b[0;34m'\\n%s\\n%s\\n%s'\u001b[0m \u001b[0;34m%\u001b[0m \u001b[0;34m(\u001b[0m\u001b[0msep\u001b[0m\u001b[0;34m,\u001b[0m \u001b[0mmsg\u001b[0m\u001b[0;34m,\u001b[0m \u001b[0msep\u001b[0m\u001b[0;34m)\u001b[0m\u001b[0;34m\u001b[0m\u001b[0m\n\u001b[0;32m--> 653\u001b[0;31m     \u001b[0;32mraise\u001b[0m \u001b[0mLookupError\u001b[0m\u001b[0;34m(\u001b[0m\u001b[0mresource_not_found\u001b[0m\u001b[0;34m)\u001b[0m\u001b[0;34m\u001b[0m\u001b[0m\n\u001b[0m\u001b[1;32m    654\u001b[0m \u001b[0;34m\u001b[0m\u001b[0m\n\u001b[1;32m    655\u001b[0m \u001b[0;34m\u001b[0m\u001b[0m\n",
      "\u001b[0;31mLookupError\u001b[0m: \n**********************************************************************\n  Resource 'corpora/wordnet' not found.  Please use the NLTK\n  Downloader to obtain the resource:  >>> nltk.download()\n  Searched in:\n    - '/Users/yoshidatomoya/nltk_data'\n    - '/usr/share/nltk_data'\n    - '/usr/local/share/nltk_data'\n    - '/usr/lib/nltk_data'\n    - '/usr/local/lib/nltk_data'\n**********************************************************************"
     ]
    }
   ],
   "source": [
    "# Exemple of a list of synonyms given by NLTK\n",
    "#---------------------------------------------------\n",
    "mot_cle = 'alien'\n",
    "lemma = get_synonymes(mot_cle)\n",
    "for s in lemma:\n",
    "    print(' \"{:<30}\" in keywords list -> {} {}'.format(s, s in keywords,\n",
    "                                                keywords_count[s] if s in keywords else 0 ))"
   ]
  },
  {
   "cell_type": "code",
   "execution_count": 32,
   "metadata": {
    "_cell_guid": "a725d0f4-6e4d-410a-8671-719d7a340a72",
    "_execution_state": "idle",
    "_kg_hide-input": true,
    "_uuid": "192f075099517dbc9efb681ddb88a741d7c8f09d",
    "collapsed": true
   },
   "outputs": [],
   "source": [
    "# check if 'mot' is a key of 'key_count' with a test on the number of occurences   \n",
    "#----------------------------------------------------------------------------------\n",
    "def test_keyword(mot, key_count, threshold):\n",
    "    return (False , True)[key_count.get(mot, 0) >= threshold]"
   ]
  },
  {
   "cell_type": "code",
   "execution_count": 33,
   "metadata": {
    "_cell_guid": "66aaaa30-b7b4-4ceb-9dc0-5a4a391013b8",
    "_execution_state": "idle",
    "_kg_hide-input": true,
    "_uuid": "322e9eef8e0b8bb72ba9f5ff62a72d98a6f0bd1c"
   },
   "outputs": [
    {
     "ename": "LookupError",
     "evalue": "\n**********************************************************************\n  Resource 'corpora/wordnet' not found.  Please use the NLTK\n  Downloader to obtain the resource:  >>> nltk.download()\n  Searched in:\n    - '/Users/yoshidatomoya/nltk_data'\n    - '/usr/share/nltk_data'\n    - '/usr/local/share/nltk_data'\n    - '/usr/lib/nltk_data'\n    - '/usr/local/lib/nltk_data'\n**********************************************************************",
     "output_type": "error",
     "traceback": [
      "\u001b[0;31m---------------------------------------------------------------------------\u001b[0m",
      "\u001b[0;31mLookupError\u001b[0m                               Traceback (most recent call last)",
      "\u001b[0;32m//anaconda/lib/python3.5/site-packages/nltk/corpus/util.py\u001b[0m in \u001b[0;36m__load\u001b[0;34m(self)\u001b[0m\n\u001b[1;32m     79\u001b[0m             \u001b[0;32mexcept\u001b[0m \u001b[0mLookupError\u001b[0m \u001b[0;32mas\u001b[0m \u001b[0me\u001b[0m\u001b[0;34m:\u001b[0m\u001b[0;34m\u001b[0m\u001b[0m\n\u001b[0;32m---> 80\u001b[0;31m                 \u001b[0;32mtry\u001b[0m\u001b[0;34m:\u001b[0m \u001b[0mroot\u001b[0m \u001b[0;34m=\u001b[0m \u001b[0mnltk\u001b[0m\u001b[0;34m.\u001b[0m\u001b[0mdata\u001b[0m\u001b[0;34m.\u001b[0m\u001b[0mfind\u001b[0m\u001b[0;34m(\u001b[0m\u001b[0;34m'{}/{}'\u001b[0m\u001b[0;34m.\u001b[0m\u001b[0mformat\u001b[0m\u001b[0;34m(\u001b[0m\u001b[0mself\u001b[0m\u001b[0;34m.\u001b[0m\u001b[0msubdir\u001b[0m\u001b[0;34m,\u001b[0m \u001b[0mzip_name\u001b[0m\u001b[0;34m)\u001b[0m\u001b[0;34m)\u001b[0m\u001b[0;34m\u001b[0m\u001b[0m\n\u001b[0m\u001b[1;32m     81\u001b[0m                 \u001b[0;32mexcept\u001b[0m \u001b[0mLookupError\u001b[0m\u001b[0;34m:\u001b[0m \u001b[0;32mraise\u001b[0m \u001b[0me\u001b[0m\u001b[0;34m\u001b[0m\u001b[0m\n",
      "\u001b[0;32m//anaconda/lib/python3.5/site-packages/nltk/data.py\u001b[0m in \u001b[0;36mfind\u001b[0;34m(resource_name, paths)\u001b[0m\n\u001b[1;32m    652\u001b[0m     \u001b[0mresource_not_found\u001b[0m \u001b[0;34m=\u001b[0m \u001b[0;34m'\\n%s\\n%s\\n%s'\u001b[0m \u001b[0;34m%\u001b[0m \u001b[0;34m(\u001b[0m\u001b[0msep\u001b[0m\u001b[0;34m,\u001b[0m \u001b[0mmsg\u001b[0m\u001b[0;34m,\u001b[0m \u001b[0msep\u001b[0m\u001b[0;34m)\u001b[0m\u001b[0;34m\u001b[0m\u001b[0m\n\u001b[0;32m--> 653\u001b[0;31m     \u001b[0;32mraise\u001b[0m \u001b[0mLookupError\u001b[0m\u001b[0;34m(\u001b[0m\u001b[0mresource_not_found\u001b[0m\u001b[0;34m)\u001b[0m\u001b[0;34m\u001b[0m\u001b[0m\n\u001b[0m\u001b[1;32m    654\u001b[0m \u001b[0;34m\u001b[0m\u001b[0m\n",
      "\u001b[0;31mLookupError\u001b[0m: \n**********************************************************************\n  Resource 'corpora/wordnet.zip/wordnet/' not found.  Please use\n  the NLTK Downloader to obtain the resource:  >>> nltk.download()\n  Searched in:\n    - '/Users/yoshidatomoya/nltk_data'\n    - '/usr/share/nltk_data'\n    - '/usr/local/share/nltk_data'\n    - '/usr/lib/nltk_data'\n    - '/usr/local/lib/nltk_data'\n**********************************************************************",
      "\nDuring handling of the above exception, another exception occurred:\n",
      "\u001b[0;31mLookupError\u001b[0m                               Traceback (most recent call last)",
      "\u001b[0;32m<ipython-input-33-0dfe5d3c1142>\u001b[0m in \u001b[0;36m<module>\u001b[0;34m()\u001b[0m\n\u001b[1;32m      9\u001b[0m \u001b[0;32mfor\u001b[0m \u001b[0mindex\u001b[0m\u001b[0;34m,\u001b[0m \u001b[0;34m[\u001b[0m\u001b[0mmot\u001b[0m\u001b[0;34m,\u001b[0m \u001b[0mnb_apparitions\u001b[0m\u001b[0;34m]\u001b[0m \u001b[0;32min\u001b[0m \u001b[0menumerate\u001b[0m\u001b[0;34m(\u001b[0m\u001b[0mkeyword_occurences\u001b[0m\u001b[0;34m)\u001b[0m\u001b[0;34m:\u001b[0m\u001b[0;34m\u001b[0m\u001b[0m\n\u001b[1;32m     10\u001b[0m     \u001b[0;32mif\u001b[0m \u001b[0mnb_apparitions\u001b[0m \u001b[0;34m>\u001b[0m \u001b[0;36m5\u001b[0m\u001b[0;34m:\u001b[0m \u001b[0;32mcontinue\u001b[0m  \u001b[0;31m# only the keywords that appear less than 5 times\u001b[0m\u001b[0;34m\u001b[0m\u001b[0m\n\u001b[0;32m---> 11\u001b[0;31m     \u001b[0mlemma\u001b[0m \u001b[0;34m=\u001b[0m \u001b[0mget_synonymes\u001b[0m\u001b[0;34m(\u001b[0m\u001b[0mmot\u001b[0m\u001b[0;34m)\u001b[0m\u001b[0;34m\u001b[0m\u001b[0m\n\u001b[0m\u001b[1;32m     12\u001b[0m     \u001b[0;32mif\u001b[0m \u001b[0mlen\u001b[0m\u001b[0;34m(\u001b[0m\u001b[0mlemma\u001b[0m\u001b[0;34m)\u001b[0m \u001b[0;34m==\u001b[0m \u001b[0;36m0\u001b[0m\u001b[0;34m:\u001b[0m \u001b[0;32mcontinue\u001b[0m     \u001b[0;31m# case of the plurals\u001b[0m\u001b[0;34m\u001b[0m\u001b[0m\n\u001b[1;32m     13\u001b[0m     \u001b[0;31m#_________________________________________________________________\u001b[0m\u001b[0;34m\u001b[0m\u001b[0;34m\u001b[0m\u001b[0m\n",
      "\u001b[0;32m<ipython-input-30-bf85a47ccc85>\u001b[0m in \u001b[0;36mget_synonymes\u001b[0;34m(mot_cle)\u001b[0m\n\u001b[1;32m      3\u001b[0m \u001b[0;32mdef\u001b[0m \u001b[0mget_synonymes\u001b[0m\u001b[0;34m(\u001b[0m\u001b[0mmot_cle\u001b[0m\u001b[0;34m)\u001b[0m\u001b[0;34m:\u001b[0m\u001b[0;34m\u001b[0m\u001b[0m\n\u001b[1;32m      4\u001b[0m     \u001b[0mlemma\u001b[0m \u001b[0;34m=\u001b[0m \u001b[0mset\u001b[0m\u001b[0;34m(\u001b[0m\u001b[0;34m)\u001b[0m\u001b[0;34m\u001b[0m\u001b[0m\n\u001b[0;32m----> 5\u001b[0;31m     \u001b[0;32mfor\u001b[0m \u001b[0mss\u001b[0m \u001b[0;32min\u001b[0m \u001b[0mwordnet\u001b[0m\u001b[0;34m.\u001b[0m\u001b[0msynsets\u001b[0m\u001b[0;34m(\u001b[0m\u001b[0mmot_cle\u001b[0m\u001b[0;34m)\u001b[0m\u001b[0;34m:\u001b[0m\u001b[0;34m\u001b[0m\u001b[0m\n\u001b[0m\u001b[1;32m      6\u001b[0m         \u001b[0;32mfor\u001b[0m \u001b[0mw\u001b[0m \u001b[0;32min\u001b[0m \u001b[0mss\u001b[0m\u001b[0;34m.\u001b[0m\u001b[0mlemma_names\u001b[0m\u001b[0;34m(\u001b[0m\u001b[0;34m)\u001b[0m\u001b[0;34m:\u001b[0m\u001b[0;34m\u001b[0m\u001b[0m\n\u001b[1;32m      7\u001b[0m             \u001b[0;31m#_______________________________\u001b[0m\u001b[0;34m\u001b[0m\u001b[0;34m\u001b[0m\u001b[0m\n",
      "\u001b[0;32m//anaconda/lib/python3.5/site-packages/nltk/corpus/util.py\u001b[0m in \u001b[0;36m__getattr__\u001b[0;34m(self, attr)\u001b[0m\n\u001b[1;32m    114\u001b[0m             \u001b[0;32mraise\u001b[0m \u001b[0mAttributeError\u001b[0m\u001b[0;34m(\u001b[0m\u001b[0;34m\"LazyCorpusLoader object has no attribute '__bases__'\"\u001b[0m\u001b[0;34m)\u001b[0m\u001b[0;34m\u001b[0m\u001b[0m\n\u001b[1;32m    115\u001b[0m \u001b[0;34m\u001b[0m\u001b[0m\n\u001b[0;32m--> 116\u001b[0;31m         \u001b[0mself\u001b[0m\u001b[0;34m.\u001b[0m\u001b[0m__load\u001b[0m\u001b[0;34m(\u001b[0m\u001b[0;34m)\u001b[0m\u001b[0;34m\u001b[0m\u001b[0m\n\u001b[0m\u001b[1;32m    117\u001b[0m         \u001b[0;31m# This looks circular, but its not, since __load() changes our\u001b[0m\u001b[0;34m\u001b[0m\u001b[0;34m\u001b[0m\u001b[0m\n\u001b[1;32m    118\u001b[0m         \u001b[0;31m# __class__ to something new:\u001b[0m\u001b[0;34m\u001b[0m\u001b[0;34m\u001b[0m\u001b[0m\n",
      "\u001b[0;32m//anaconda/lib/python3.5/site-packages/nltk/corpus/util.py\u001b[0m in \u001b[0;36m__load\u001b[0;34m(self)\u001b[0m\n\u001b[1;32m     79\u001b[0m             \u001b[0;32mexcept\u001b[0m \u001b[0mLookupError\u001b[0m \u001b[0;32mas\u001b[0m \u001b[0me\u001b[0m\u001b[0;34m:\u001b[0m\u001b[0;34m\u001b[0m\u001b[0m\n\u001b[1;32m     80\u001b[0m                 \u001b[0;32mtry\u001b[0m\u001b[0;34m:\u001b[0m \u001b[0mroot\u001b[0m \u001b[0;34m=\u001b[0m \u001b[0mnltk\u001b[0m\u001b[0;34m.\u001b[0m\u001b[0mdata\u001b[0m\u001b[0;34m.\u001b[0m\u001b[0mfind\u001b[0m\u001b[0;34m(\u001b[0m\u001b[0;34m'{}/{}'\u001b[0m\u001b[0;34m.\u001b[0m\u001b[0mformat\u001b[0m\u001b[0;34m(\u001b[0m\u001b[0mself\u001b[0m\u001b[0;34m.\u001b[0m\u001b[0msubdir\u001b[0m\u001b[0;34m,\u001b[0m \u001b[0mzip_name\u001b[0m\u001b[0;34m)\u001b[0m\u001b[0;34m)\u001b[0m\u001b[0;34m\u001b[0m\u001b[0m\n\u001b[0;32m---> 81\u001b[0;31m                 \u001b[0;32mexcept\u001b[0m \u001b[0mLookupError\u001b[0m\u001b[0;34m:\u001b[0m \u001b[0;32mraise\u001b[0m \u001b[0me\u001b[0m\u001b[0;34m\u001b[0m\u001b[0m\n\u001b[0m\u001b[1;32m     82\u001b[0m \u001b[0;34m\u001b[0m\u001b[0m\n\u001b[1;32m     83\u001b[0m         \u001b[0;31m# Load the corpus.\u001b[0m\u001b[0;34m\u001b[0m\u001b[0;34m\u001b[0m\u001b[0m\n",
      "\u001b[0;32m//anaconda/lib/python3.5/site-packages/nltk/corpus/util.py\u001b[0m in \u001b[0;36m__load\u001b[0;34m(self)\u001b[0m\n\u001b[1;32m     76\u001b[0m         \u001b[0;32melse\u001b[0m\u001b[0;34m:\u001b[0m\u001b[0;34m\u001b[0m\u001b[0m\n\u001b[1;32m     77\u001b[0m             \u001b[0;32mtry\u001b[0m\u001b[0;34m:\u001b[0m\u001b[0;34m\u001b[0m\u001b[0m\n\u001b[0;32m---> 78\u001b[0;31m                 \u001b[0mroot\u001b[0m \u001b[0;34m=\u001b[0m \u001b[0mnltk\u001b[0m\u001b[0;34m.\u001b[0m\u001b[0mdata\u001b[0m\u001b[0;34m.\u001b[0m\u001b[0mfind\u001b[0m\u001b[0;34m(\u001b[0m\u001b[0;34m'{}/{}'\u001b[0m\u001b[0;34m.\u001b[0m\u001b[0mformat\u001b[0m\u001b[0;34m(\u001b[0m\u001b[0mself\u001b[0m\u001b[0;34m.\u001b[0m\u001b[0msubdir\u001b[0m\u001b[0;34m,\u001b[0m \u001b[0mself\u001b[0m\u001b[0;34m.\u001b[0m\u001b[0m__name\u001b[0m\u001b[0;34m)\u001b[0m\u001b[0;34m)\u001b[0m\u001b[0;34m\u001b[0m\u001b[0m\n\u001b[0m\u001b[1;32m     79\u001b[0m             \u001b[0;32mexcept\u001b[0m \u001b[0mLookupError\u001b[0m \u001b[0;32mas\u001b[0m \u001b[0me\u001b[0m\u001b[0;34m:\u001b[0m\u001b[0;34m\u001b[0m\u001b[0m\n\u001b[1;32m     80\u001b[0m                 \u001b[0;32mtry\u001b[0m\u001b[0;34m:\u001b[0m \u001b[0mroot\u001b[0m \u001b[0;34m=\u001b[0m \u001b[0mnltk\u001b[0m\u001b[0;34m.\u001b[0m\u001b[0mdata\u001b[0m\u001b[0;34m.\u001b[0m\u001b[0mfind\u001b[0m\u001b[0;34m(\u001b[0m\u001b[0;34m'{}/{}'\u001b[0m\u001b[0;34m.\u001b[0m\u001b[0mformat\u001b[0m\u001b[0;34m(\u001b[0m\u001b[0mself\u001b[0m\u001b[0;34m.\u001b[0m\u001b[0msubdir\u001b[0m\u001b[0;34m,\u001b[0m \u001b[0mzip_name\u001b[0m\u001b[0;34m)\u001b[0m\u001b[0;34m)\u001b[0m\u001b[0;34m\u001b[0m\u001b[0m\n",
      "\u001b[0;32m//anaconda/lib/python3.5/site-packages/nltk/data.py\u001b[0m in \u001b[0;36mfind\u001b[0;34m(resource_name, paths)\u001b[0m\n\u001b[1;32m    651\u001b[0m     \u001b[0msep\u001b[0m \u001b[0;34m=\u001b[0m \u001b[0;34m'*'\u001b[0m \u001b[0;34m*\u001b[0m \u001b[0;36m70\u001b[0m\u001b[0;34m\u001b[0m\u001b[0m\n\u001b[1;32m    652\u001b[0m     \u001b[0mresource_not_found\u001b[0m \u001b[0;34m=\u001b[0m \u001b[0;34m'\\n%s\\n%s\\n%s'\u001b[0m \u001b[0;34m%\u001b[0m \u001b[0;34m(\u001b[0m\u001b[0msep\u001b[0m\u001b[0;34m,\u001b[0m \u001b[0mmsg\u001b[0m\u001b[0;34m,\u001b[0m \u001b[0msep\u001b[0m\u001b[0;34m)\u001b[0m\u001b[0;34m\u001b[0m\u001b[0m\n\u001b[0;32m--> 653\u001b[0;31m     \u001b[0;32mraise\u001b[0m \u001b[0mLookupError\u001b[0m\u001b[0;34m(\u001b[0m\u001b[0mresource_not_found\u001b[0m\u001b[0;34m)\u001b[0m\u001b[0;34m\u001b[0m\u001b[0m\n\u001b[0m\u001b[1;32m    654\u001b[0m \u001b[0;34m\u001b[0m\u001b[0m\n\u001b[1;32m    655\u001b[0m \u001b[0;34m\u001b[0m\u001b[0m\n",
      "\u001b[0;31mLookupError\u001b[0m: \n**********************************************************************\n  Resource 'corpora/wordnet' not found.  Please use the NLTK\n  Downloader to obtain the resource:  >>> nltk.download()\n  Searched in:\n    - '/Users/yoshidatomoya/nltk_data'\n    - '/usr/share/nltk_data'\n    - '/usr/local/share/nltk_data'\n    - '/usr/lib/nltk_data'\n    - '/usr/local/lib/nltk_data'\n**********************************************************************"
     ]
    }
   ],
   "source": [
    "keyword_occurences.sort(key = lambda x:x[1], reverse = False)\n",
    "key_count = dict()\n",
    "for s in keyword_occurences:\n",
    "    key_count[s[0]] = s[1]\n",
    "#__________________________________________________________________________\n",
    "# Creation of a dictionary to replace keywords by higher frequency keywords\n",
    "remplacement_mot = dict()\n",
    "icount = 0\n",
    "for index, [mot, nb_apparitions] in enumerate(keyword_occurences):\n",
    "    if nb_apparitions > 5: continue  # only the keywords that appear less than 5 times\n",
    "    lemma = get_synonymes(mot)\n",
    "    if len(lemma) == 0: continue     # case of the plurals\n",
    "    #_________________________________________________________________\n",
    "    liste_mots = [(s, key_count[s]) for s in lemma \n",
    "                  if test_keyword(s, key_count, key_count[mot])]\n",
    "    liste_mots.sort(key = lambda x:(x[1],x[0]), reverse = True)    \n",
    "    if len(liste_mots) <= 1: continue       # no replacement\n",
    "    if mot == liste_mots[0][0]: continue    # replacement by himself\n",
    "    icount += 1\n",
    "    if  icount < 8:\n",
    "        print('{:<12} -> {:<12} (init: {})'.format(mot, liste_mots[0][0], liste_mots))    \n",
    "    remplacement_mot[mot] = liste_mots[0][0]\n",
    "\n",
    "print(90*'_'+'\\n'+'The replacement concerns {}% of the keywords.'\n",
    "      .format(round(len(remplacement_mot)/len(keywords)*100,2)))"
   ]
  },
  {
   "cell_type": "code",
   "execution_count": 34,
   "metadata": {
    "_cell_guid": "af5cad55-1e85-41ff-b9b0-e0e9dc96f94b",
    "_execution_state": "idle",
    "_kg_hide-input": true,
    "_uuid": "5a487f048d7be20cd0f12c122c9b5f30dd5beb2a"
   },
   "outputs": [
    {
     "name": "stdout",
     "output_type": "stream",
     "text": [
      "KEYWORDS THAT APPEAR BOTH IN KEYS AND VALUES:\n",
      "---------------------------------------------\n"
     ]
    }
   ],
   "source": [
    "# 2 successive replacements\n",
    "#---------------------------\n",
    "print('Keywords that appear both in keys and values:'.upper()+'\\n'+45*'-')\n",
    "icount = 0\n",
    "for s in remplacement_mot.values():\n",
    "    if s in remplacement_mot.keys():\n",
    "        icount += 1\n",
    "        if icount < 10: print('{:<20} -> {:<20}'.format(s, remplacement_mot[s]))\n",
    "\n",
    "for key, value in remplacement_mot.items():\n",
    "    if value in remplacement_mot.keys():\n",
    "        remplacement_mot[key] = remplacement_mot[value]                    "
   ]
  },
  {
   "cell_type": "code",
   "execution_count": 35,
   "metadata": {
    "_cell_guid": "dcae46b6-8d6c-4f93-acda-6d30ac3d2b5c",
    "_execution_state": "idle",
    "_kg_hide-input": true,
    "_uuid": "880770ea60e1906befe9e16f56a25155f78cea00"
   },
   "outputs": [
    {
     "name": "stdout",
     "output_type": "stream",
     "text": [
      "Nb of keywords in variable 'plot_keywords': 9474\n"
     ]
    }
   ],
   "source": [
    "# replacement of keyword varieties by the main keyword\n",
    "#----------------------------------------------------------\n",
    "df_keywords_synonyms = \\\n",
    "            remplacement_df_keywords(df_keywords_cleaned, remplacement_mot, roots = False)   \n",
    "keywords, keywords_roots, keywords_select = \\\n",
    "            keywords_inventory(df_keywords_synonyms, colonne = 'plot_keywords')"
   ]
  },
  {
   "cell_type": "code",
   "execution_count": 36,
   "metadata": {
    "_cell_guid": "99acaa6c-02b7-4e58-8c2c-f977d3240533",
    "_execution_state": "idle",
    "_kg_hide-input": true,
    "_uuid": "c3c5bfa803a2e551022e1015a8daa8dfe9de2b33"
   },
   "outputs": [
    {
     "data": {
      "text/plain": [
       "[['woman director', 324],\n",
       " ['independent film', 318],\n",
       " ['duringcreditsstinger', 307],\n",
       " ['murder', 197],\n",
       " ['based on novel', 197]]"
      ]
     },
     "execution_count": 36,
     "metadata": {},
     "output_type": "execute_result"
    }
   ],
   "source": [
    "# New count of keyword occurences\n",
    "#-------------------------------------\n",
    "keywords.remove('')\n",
    "new_keyword_occurences, keywords_count = count_word(df_keywords_synonyms,\n",
    "                                                    'plot_keywords',keywords)\n",
    "new_keyword_occurences[:5]"
   ]
  },
  {
   "cell_type": "code",
   "execution_count": 37,
   "metadata": {
    "_cell_guid": "99428eb9-30ff-4eb2-9996-879ec15e60ed",
    "_execution_state": "idle",
    "_kg_hide-input": true,
    "_uuid": "bd493cfc91d54ed80725079f920f400c0223680a",
    "collapsed": true
   },
   "outputs": [],
   "source": [
    "# deletion of keywords with low frequencies\n",
    "#-------------------------------------------\n",
    "def remplacement_df_low_frequency_keywords(df, keyword_occurences):\n",
    "    df_new = df.copy(deep = True)\n",
    "    key_count = dict()\n",
    "    for s in keyword_occurences: \n",
    "        key_count[s[0]] = s[1]    \n",
    "    for index, row in df_new.iterrows():\n",
    "        chaine = row['plot_keywords']\n",
    "        if pd.isnull(chaine): continue\n",
    "        nouvelle_liste = []\n",
    "        for s in chaine.split('|'): \n",
    "            if key_count.get(s, 4) > 3: nouvelle_liste.append(s)\n",
    "        df_new.set_value(index, 'plot_keywords', '|'.join(nouvelle_liste))\n",
    "    return df_new"
   ]
  },
  {
   "cell_type": "code",
   "execution_count": 38,
   "metadata": {
    "_cell_guid": "cda2d19f-bfb1-470c-848e-bfa9a305ce1d",
    "_execution_state": "idle",
    "_kg_hide-input": true,
    "_uuid": "9b80ea897c9708925c2c595e287826a574272151"
   },
   "outputs": [
    {
     "name": "stdout",
     "output_type": "stream",
     "text": [
      "Nb of keywords in variable 'plot_keywords': 2143\n"
     ]
    }
   ],
   "source": [
    "# Creation of a dataframe where keywords of low frequencies are suppressed\n",
    "#-------------------------------------------------------------------------\n",
    "df_keywords_occurence = \\\n",
    "    remplacement_df_low_frequency_keywords(df_keywords_synonyms, new_keyword_occurences)\n",
    "keywords, keywords_roots, keywords_select = \\\n",
    "    keywords_inventory(df_keywords_occurence, colonne = 'plot_keywords')    "
   ]
  },
  {
   "cell_type": "code",
   "execution_count": 39,
   "metadata": {
    "_cell_guid": "c39a0f6c-23ac-436d-83a8-d74884da34ad",
    "_execution_state": "idle",
    "_kg_hide-input": true,
    "_uuid": "99b47da31fde5b3b8965535099f3c07d7cf380eb"
   },
   "outputs": [
    {
     "data": {
      "text/plain": [
       "[['woman director', 324],\n",
       " ['independent film', 318],\n",
       " ['duringcreditsstinger', 307],\n",
       " ['based on novel', 197],\n",
       " ['murder', 197]]"
      ]
     },
     "execution_count": 39,
     "metadata": {},
     "output_type": "execute_result"
    }
   ],
   "source": [
    "# New keywords count\n",
    "#-------------------\n",
    "keywords.remove('')\n",
    "new_keyword_occurences, keywords_count = count_word(df_keywords_occurence,\n",
    "                                                    'plot_keywords',keywords)\n",
    "new_keyword_occurences[:5]"
   ]
  },
  {
   "cell_type": "code",
   "execution_count": 40,
   "metadata": {
    "_cell_guid": "99a2b8c1-9095-4cd7-b1d9-1148b0ff5311",
    "_execution_state": "idle",
    "_kg_hide-input": true,
    "_uuid": "b1056d614700579905cdd0b23948e80ad2d06546"
   },
   "outputs": [
    {
     "data": {
      "image/png": "[encoded data removed]",
      "text/plain": [
       "<matplotlib.figure.Figure at 0x122d442e8>"
      ]
     },
     "metadata": {},
     "output_type": "display_data"
    }
   ],
   "source": [
    "# Graph of keyword occurences\n",
    "#----------------------------\n",
    "font = {'family' : 'fantasy', 'weight' : 'normal', 'size'   : 15}\n",
    "mpl.rc('font', **font)\n",
    "\n",
    "keyword_occurences.sort(key = lambda x:x[1], reverse = True)\n",
    "\n",
    "y_axis = [i[1] for i in keyword_occurences]\n",
    "x_axis = [k for k,i in enumerate(keyword_occurences)]\n",
    "\n",
    "new_y_axis = [i[1] for i in new_keyword_occurences]\n",
    "new_x_axis = [k for k,i in enumerate(new_keyword_occurences)]\n",
    "\n",
    "f, ax = plt.subplots(figsize=(9, 5))\n",
    "ax.plot(x_axis, y_axis, 'r-', label='before cleaning')\n",
    "ax.plot(new_x_axis, new_y_axis, 'b-', label='after cleaning')\n",
    "\n",
    "# Now add the legend with some customizations.\n",
    "legend = ax.legend(loc='upper right', shadow=True)\n",
    "frame = legend.get_frame()\n",
    "frame.set_facecolor('0.90')\n",
    "for label in legend.get_texts():\n",
    "    label.set_fontsize('medium')\n",
    "            \n",
    "plt.ylim((0,25))\n",
    "plt.axhline(y=3.5, linewidth=2, color = 'k')\n",
    "plt.xlabel(\"keywords index\", family='fantasy', fontsize = 15)\n",
    "plt.ylabel(\"Nb. of occurences\", family='fantasy', fontsize = 15)\n",
    "#plt.suptitle(\"Nombre d'occurences des mots clés\", fontsize = 18, family='fantasy')\n",
    "plt.text(3500, 4.5, 'threshold for keyword delation', fontsize = 13)\n",
    "plt.show()"
   ]
  },
  {
   "cell_type": "markdown",
   "metadata": {
    "_cell_guid": "d1c1ff38-6508-46a1-853d-7a047e1391ad",
    "_execution_state": "idle",
    "_uuid": "dc427dca19eafaa74b98c66db776e3a79f7bec38"
   },
   "source": [
    "___\n",
    "### 2.2 Correlations"
   ]
  },
  {
   "cell_type": "code",
   "execution_count": 41,
   "metadata": {
    "_cell_guid": "127dfb29-c1c3-43ac-a57f-0fa0bd49b292",
    "_kg_hide-input": true,
    "_uuid": "e88e87da4d4a852bd666e58b9459e4b030482862"
   },
   "outputs": [
    {
     "data": {
      "image/png": "[encoded data removed]",
      "text/plain": [
       "<matplotlib.figure.Figure at 0x122d6e710>"
      ]
     },
     "metadata": {},
     "output_type": "display_data"
    }
   ],
   "source": [
    "f, ax = plt.subplots(figsize=(12, 9))\n",
    "#_____________________________\n",
    "# calculations of correlations\n",
    "corrmat = df_keywords_occurence.dropna(how='any').corr()\n",
    "#________________________________________\n",
    "k = 17 # number of variables for heatmap\n",
    "cols = corrmat.nlargest(k, 'num_voted_users')['num_voted_users'].index\n",
    "cm = np.corrcoef(df_keywords_occurence[cols].dropna(how='any').values.T)\n",
    "sns.set(font_scale=1.25)\n",
    "hm = sns.heatmap(cm, cbar=True, annot=True, square=True,\n",
    "                 fmt='.2f', annot_kws={'size': 10}, linewidth = 0.1, cmap = 'coolwarm',\n",
    "                 yticklabels=cols.values, xticklabels=cols.values)\n",
    "f.text(0.5, 0.93, \"Correlation coefficients\", ha='center', fontsize = 18, family='fantasy')\n",
    "plt.show()"
   ]
  },
  {
   "cell_type": "markdown",
   "metadata": {
    "_cell_guid": "a0954d22-c00e-4313-823d-94fcef88bc5f",
    "_execution_state": "idle",
    "_uuid": "2fbb698728b0b5ec09d0b2d994fac406bd057ff0"
   },
   "source": [
    "According to the values reported above, I delete a few variables from the dataframe and then re-order the columns."
   ]
  },
  {
   "cell_type": "code",
   "execution_count": 42,
   "metadata": {
    "_cell_guid": "74e7140d-fb3d-4bc6-8e3f-79f7a55dfe28",
    "_uuid": "92af8f62eb29ad72ebea2f2ff2f8d4b828ded4c3",
    "collapsed": true
   },
   "outputs": [],
   "source": [
    "df_var_cleaned = df_keywords_occurence.copy(deep = True)"
   ]
  },
  {
   "cell_type": "markdown",
   "metadata": {
    "_cell_guid": "2daadcf5-3ede-442f-b5d1-6e429827d5c1",
    "_execution_state": "idle",
    "_uuid": "669d2e853a80d3f78eee906e421ebc2a68a21523"
   },
   "source": [
    "___\n",
    "###  2.3 Missing values\n",
    "I examine the number of missing values in each variable and then choose a methodology to complete the dataset."
   ]
  },
  {
   "cell_type": "code",
   "execution_count": 43,
   "metadata": {
    "_cell_guid": "a677a63f-0fff-430d-85f8-a99c128c43e9",
    "_kg_hide-input": true,
    "_uuid": "5eb50f1ef0be75245a396b4bd651af98cd574314"
   },
   "outputs": [
    {
     "data": {
      "text/html": [
       "<div>\n",
       "<style>\n",
       "    .dataframe thead tr:only-child th {\n",
       "        text-align: right;\n",
       "    }\n",
       "\n",
       "    .dataframe thead th {\n",
       "        text-align: left;\n",
       "    }\n",
       "\n",
       "    .dataframe tbody tr th {\n",
       "        vertical-align: top;\n",
       "    }\n",
       "</style>\n",
       "<table border=\"1\" class=\"dataframe\">\n",
       "  <thead>\n",
       "    <tr style=\"text-align: right;\">\n",
       "      <th></th>\n",
       "      <th>column_name</th>\n",
       "      <th>missing_count</th>\n",
       "      <th>filling_factor</th>\n",
       "    </tr>\n",
       "  </thead>\n",
       "  <tbody>\n",
       "    <tr>\n",
       "      <th>0</th>\n",
       "      <td>homepage</td>\n",
       "      <td>3091</td>\n",
       "      <td>35.644389</td>\n",
       "    </tr>\n",
       "    <tr>\n",
       "      <th>1</th>\n",
       "      <td>tagline</td>\n",
       "      <td>844</td>\n",
       "      <td>82.427649</td>\n",
       "    </tr>\n",
       "    <tr>\n",
       "      <th>2</th>\n",
       "      <td>country</td>\n",
       "      <td>174</td>\n",
       "      <td>96.377264</td>\n",
       "    </tr>\n",
       "    <tr>\n",
       "      <th>3</th>\n",
       "      <td>actor_3_name</td>\n",
       "      <td>93</td>\n",
       "      <td>98.063710</td>\n",
       "    </tr>\n",
       "    <tr>\n",
       "      <th>4</th>\n",
       "      <td>language</td>\n",
       "      <td>86</td>\n",
       "      <td>98.209452</td>\n",
       "    </tr>\n",
       "    <tr>\n",
       "      <th>5</th>\n",
       "      <td>actor_2_name</td>\n",
       "      <td>63</td>\n",
       "      <td>98.688320</td>\n",
       "    </tr>\n",
       "    <tr>\n",
       "      <th>6</th>\n",
       "      <td>actor_1_name</td>\n",
       "      <td>53</td>\n",
       "      <td>98.896523</td>\n",
       "    </tr>\n",
       "    <tr>\n",
       "      <th>7</th>\n",
       "      <td>director_name</td>\n",
       "      <td>30</td>\n",
       "      <td>99.375390</td>\n",
       "    </tr>\n",
       "    <tr>\n",
       "      <th>8</th>\n",
       "      <td>overview</td>\n",
       "      <td>3</td>\n",
       "      <td>99.937539</td>\n",
       "    </tr>\n",
       "    <tr>\n",
       "      <th>9</th>\n",
       "      <td>duration</td>\n",
       "      <td>2</td>\n",
       "      <td>99.958359</td>\n",
       "    </tr>\n",
       "    <tr>\n",
       "      <th>10</th>\n",
       "      <td>title_year</td>\n",
       "      <td>1</td>\n",
       "      <td>99.979180</td>\n",
       "    </tr>\n",
       "    <tr>\n",
       "      <th>11</th>\n",
       "      <td>release_date</td>\n",
       "      <td>1</td>\n",
       "      <td>99.979180</td>\n",
       "    </tr>\n",
       "    <tr>\n",
       "      <th>12</th>\n",
       "      <td>num_voted_users</td>\n",
       "      <td>0</td>\n",
       "      <td>100.000000</td>\n",
       "    </tr>\n",
       "    <tr>\n",
       "      <th>13</th>\n",
       "      <td>vote_average</td>\n",
       "      <td>0</td>\n",
       "      <td>100.000000</td>\n",
       "    </tr>\n",
       "    <tr>\n",
       "      <th>14</th>\n",
       "      <td>movie_title</td>\n",
       "      <td>0</td>\n",
       "      <td>100.000000</td>\n",
       "    </tr>\n",
       "    <tr>\n",
       "      <th>15</th>\n",
       "      <td>budget</td>\n",
       "      <td>0</td>\n",
       "      <td>100.000000</td>\n",
       "    </tr>\n",
       "    <tr>\n",
       "      <th>16</th>\n",
       "      <td>spoken_languages</td>\n",
       "      <td>0</td>\n",
       "      <td>100.000000</td>\n",
       "    </tr>\n",
       "    <tr>\n",
       "      <th>17</th>\n",
       "      <td>production_countries</td>\n",
       "      <td>0</td>\n",
       "      <td>100.000000</td>\n",
       "    </tr>\n",
       "    <tr>\n",
       "      <th>18</th>\n",
       "      <td>production_companies</td>\n",
       "      <td>0</td>\n",
       "      <td>100.000000</td>\n",
       "    </tr>\n",
       "    <tr>\n",
       "      <th>19</th>\n",
       "      <td>popularity</td>\n",
       "      <td>0</td>\n",
       "      <td>100.000000</td>\n",
       "    </tr>\n",
       "    <tr>\n",
       "      <th>20</th>\n",
       "      <td>original_title</td>\n",
       "      <td>0</td>\n",
       "      <td>100.000000</td>\n",
       "    </tr>\n",
       "    <tr>\n",
       "      <th>21</th>\n",
       "      <td>plot_keywords</td>\n",
       "      <td>0</td>\n",
       "      <td>100.000000</td>\n",
       "    </tr>\n",
       "    <tr>\n",
       "      <th>22</th>\n",
       "      <td>id</td>\n",
       "      <td>0</td>\n",
       "      <td>100.000000</td>\n",
       "    </tr>\n",
       "    <tr>\n",
       "      <th>23</th>\n",
       "      <td>genres</td>\n",
       "      <td>0</td>\n",
       "      <td>100.000000</td>\n",
       "    </tr>\n",
       "    <tr>\n",
       "      <th>24</th>\n",
       "      <td>status</td>\n",
       "      <td>0</td>\n",
       "      <td>100.000000</td>\n",
       "    </tr>\n",
       "    <tr>\n",
       "      <th>25</th>\n",
       "      <td>gross</td>\n",
       "      <td>0</td>\n",
       "      <td>100.000000</td>\n",
       "    </tr>\n",
       "  </tbody>\n",
       "</table>\n",
       "</div>"
      ],
      "text/plain": [
       "             column_name  missing_count  filling_factor\n",
       "0               homepage           3091       35.644389\n",
       "1                tagline            844       82.427649\n",
       "2                country            174       96.377264\n",
       "3           actor_3_name             93       98.063710\n",
       "4               language             86       98.209452\n",
       "5           actor_2_name             63       98.688320\n",
       "6           actor_1_name             53       98.896523\n",
       "7          director_name             30       99.375390\n",
       "8               overview              3       99.937539\n",
       "9               duration              2       99.958359\n",
       "10            title_year              1       99.979180\n",
       "11          release_date              1       99.979180\n",
       "12       num_voted_users              0      100.000000\n",
       "13          vote_average              0      100.000000\n",
       "14           movie_title              0      100.000000\n",
       "15                budget              0      100.000000\n",
       "16      spoken_languages              0      100.000000\n",
       "17  production_countries              0      100.000000\n",
       "18  production_companies              0      100.000000\n",
       "19            popularity              0      100.000000\n",
       "20        original_title              0      100.000000\n",
       "21         plot_keywords              0      100.000000\n",
       "22                    id              0      100.000000\n",
       "23                genres              0      100.000000\n",
       "24                status              0      100.000000\n",
       "25                 gross              0      100.000000"
      ]
     },
     "execution_count": 43,
     "metadata": {},
     "output_type": "execute_result"
    }
   ],
   "source": [
    "missing_df = df_var_cleaned.isnull().sum(axis=0).reset_index()\n",
    "missing_df.columns = ['column_name', 'missing_count']\n",
    "missing_df['filling_factor'] = (df_var_cleaned.shape[0] \n",
    "                                - missing_df['missing_count']) / df_var_cleaned.shape[0] * 100\n",
    "missing_df = missing_df.sort_values('filling_factor').reset_index(drop = True)\n",
    "missing_df"
   ]
  },
  {
   "cell_type": "markdown",
   "metadata": {
    "_cell_guid": "ba2d641e-31c2-4300-bba8-26714435c6f5",
    "_uuid": "c0b4ce75b4915ffee571c5eafc4cbe2c7da30b19"
   },
   "source": [
    "The content of this table is now represented:"
   ]
  },
  {
   "cell_type": "code",
   "execution_count": 44,
   "metadata": {
    "_cell_guid": "c41c98cc-febe-46f2-ad89-e64041256f57",
    "_execution_state": "idle",
    "_kg_hide-input": true,
    "_uuid": "201be9a8d2d5053e149e81e83b42d6eff29ae0c2"
   },
   "outputs": [
    {
     "data": {
      "image/png": "[encoded data removed]",
      "text/plain": [
       "<matplotlib.figure.Figure at 0x122cb55c0>"
      ]
     },
     "metadata": {},
     "output_type": "display_data"
    }
   ],
   "source": [
    "y_axis = missing_df['filling_factor'] \n",
    "x_label = missing_df['column_name']\n",
    "x_axis = missing_df.index\n",
    "\n",
    "fig = plt.figure(figsize=(11, 4))\n",
    "plt.xticks(rotation=80, fontsize = 14)\n",
    "plt.yticks(fontsize = 13)\n",
    "\n",
    "N_thresh = 5\n",
    "plt.axvline(x=N_thresh-0.5, linewidth=2, color = 'r')\n",
    "plt.text(N_thresh-4.8, 30, 'filling factor \\n < {}%'.format(round(y_axis[N_thresh],1)),\n",
    "         fontsize = 15, family = 'fantasy', bbox=dict(boxstyle=\"round\",\n",
    "                   ec=(1.0, 0.5, 0.5),\n",
    "                   fc=(0.8, 0.5, 0.5)))\n",
    "N_thresh = 17\n",
    "plt.axvline(x=N_thresh-0.5, linewidth=2, color = 'g')\n",
    "plt.text(N_thresh, 30, 'filling factor \\n = {}%'.format(round(y_axis[N_thresh],1)),\n",
    "         fontsize = 15, family = 'fantasy', bbox=dict(boxstyle=\"round\",\n",
    "                   ec=(1., 0.5, 0.5),\n",
    "                   fc=(0.5, 0.8, 0.5)))\n",
    "\n",
    "plt.xticks(x_axis, x_label,family='fantasy', fontsize = 14 )\n",
    "plt.ylabel('Filling factor (%)', family='fantasy', fontsize = 16)\n",
    "plt.bar(x_axis, y_axis);"
   ]
  },
  {
   "cell_type": "markdown",
   "metadata": {
    "_cell_guid": "2a951eee-851a-41b8-ae0b-93bdab2b75f4",
    "_execution_state": "idle",
    "_uuid": "46c29eb7cbc309d7e2f73fa2bd6a95ea38c0e5df"
   },
   "source": [
    "___\n",
    "#### 2.3.1 Setting missing title years\n",
    "\n",
    " To infer the title year, I use the list of actors and the director. For each of them, I determine the mean year of activity, using the current dataset. I then average the values obtained to estimate the title year."
   ]
  },
  {
   "cell_type": "code",
   "execution_count": 45,
   "metadata": {
    "_cell_guid": "48d0100b-6474-47d3-9fa2-ff4324b880ae",
    "_execution_state": "idle",
    "_kg_hide-input": false,
    "_uuid": "80212b3384a36fc36e55ecd01ca9c21ad37f2676"
   },
   "outputs": [
    {
     "data": {
      "text/html": [
       "<div>\n",
       "<style>\n",
       "    .dataframe thead tr:only-child th {\n",
       "        text-align: right;\n",
       "    }\n",
       "\n",
       "    .dataframe thead th {\n",
       "        text-align: left;\n",
       "    }\n",
       "\n",
       "    .dataframe tbody tr th {\n",
       "        vertical-align: top;\n",
       "    }\n",
       "</style>\n",
       "<table border=\"1\" class=\"dataframe\">\n",
       "  <thead>\n",
       "    <tr style=\"text-align: right;\">\n",
       "      <th></th>\n",
       "      <th>director_name</th>\n",
       "      <th>actor_1_name</th>\n",
       "      <th>actor_2_name</th>\n",
       "      <th>actor_3_name</th>\n",
       "    </tr>\n",
       "  </thead>\n",
       "  <tbody>\n",
       "    <tr>\n",
       "      <th>4553</th>\n",
       "      <td>NaN</td>\n",
       "      <td>NaN</td>\n",
       "      <td>NaN</td>\n",
       "      <td>NaN</td>\n",
       "    </tr>\n",
       "  </tbody>\n",
       "</table>\n",
       "</div>"
      ],
      "text/plain": [
       "     director_name actor_1_name actor_2_name actor_3_name\n",
       "4553           NaN          NaN          NaN          NaN"
      ]
     },
     "execution_count": 45,
     "metadata": {},
     "output_type": "execute_result"
    }
   ],
   "source": [
    "df_filling = df_var_cleaned.copy(deep=True)\n",
    "missing_year_info = df_filling[df_filling['title_year'].isnull()][[\n",
    "            'director_name','actor_1_name', 'actor_2_name', 'actor_3_name']]\n",
    "missing_year_info[:10]"
   ]
  },
  {
   "cell_type": "code",
   "execution_count": 46,
   "metadata": {
    "_cell_guid": "0509a899-8ff6-4243-88f4-6343f01d6081",
    "_uuid": "86673bb2ce0d200ace34bebb4074168af8c9b829"
   },
   "outputs": [
    {
     "data": {
      "text/plain": [
       "budget                                                                  0\n",
       "genres                                                                   \n",
       "homepage                                                              NaN\n",
       "id                                                                 380097\n",
       "plot_keywords                                                            \n",
       "language                                                              NaN\n",
       "original_title                                 America Is Still the Place\n",
       "overview                1971 post civil rights San Francisco seemed li...\n",
       "popularity                                                              0\n",
       "production_companies                                                   []\n",
       "production_countries                                                   []\n",
       "release_date                                                          NaT\n",
       "gross                                                                   0\n",
       "duration                                                                0\n",
       "spoken_languages                                                       []\n",
       "status                                                           Released\n",
       "tagline                                                               NaN\n",
       "movie_title                                    America Is Still the Place\n",
       "vote_average                                                            0\n",
       "num_voted_users                                                         0\n",
       "title_year                                                            NaN\n",
       "country                                                               NaN\n",
       "director_name                                                         NaN\n",
       "actor_1_name                                                          NaN\n",
       "actor_2_name                                                          NaN\n",
       "actor_3_name                                                          NaN\n",
       "Name: 4553, dtype: object"
      ]
     },
     "execution_count": 46,
     "metadata": {},
     "output_type": "execute_result"
    }
   ],
   "source": [
    "df_filling.iloc[4553]"
   ]
  },
  {
   "cell_type": "code",
   "execution_count": 47,
   "metadata": {
    "_cell_guid": "69103243-063a-4420-9c7b-3dfe24f68167",
    "_execution_state": "idle",
    "_kg_hide-input": true,
    "_uuid": "777a8bf33774302fdcdd6dca98293d45078d3fb3",
    "collapsed": true
   },
   "outputs": [],
   "source": [
    "def fill_year(df):\n",
    "    col = ['director_name', 'actor_1_name', 'actor_2_name', 'actor_3_name']\n",
    "    usual_year = [0 for _ in range(4)]\n",
    "    var        = [0 for _ in range(4)]\n",
    "    #_____________________________________________________________\n",
    "    # I get the mean years of activity for the actors and director\n",
    "    for i in range(4):\n",
    "        usual_year[i] = df.groupby(col[i])['title_year'].mean()\n",
    "    #_____________________________________________\n",
    "    # I create a dictionnary collectinf this info\n",
    "    actor_year = dict()\n",
    "    for i in range(4):\n",
    "        for s in usual_year[i].index:\n",
    "            if s in actor_year.keys():\n",
    "                if pd.notnull(usual_year[i][s]) and pd.notnull(actor_year[s]):\n",
    "                    actor_year[s] = (actor_year[s] + usual_year[i][s])/2\n",
    "                elif pd.isnull(actor_year[s]):\n",
    "                    actor_year[s] = usual_year[i][s]\n",
    "            else:\n",
    "                actor_year[s] = usual_year[i][s]\n",
    "        \n",
    "    #______________________________________\n",
    "    # identification of missing title years\n",
    "    missing_year_info = df[df['title_year'].isnull()]\n",
    "    #___________________________\n",
    "    # filling of missing values\n",
    "    icount_replaced = 0\n",
    "    for index, row in missing_year_info.iterrows():\n",
    "        value = [ np.NaN for _ in range(4)]\n",
    "        icount = 0 ; sum_year = 0\n",
    "        for i in range(4):            \n",
    "            var[i] = df.loc[index][col[i]]\n",
    "            if pd.notnull(var[i]): value[i] = actor_year[var[i]]\n",
    "            if pd.notnull(value[i]): icount += 1 ; sum_year += actor_year[var[i]]\n",
    "        if icount != 0: sum_year = sum_year / icount \n",
    "\n",
    "        if int(sum_year) > 0:\n",
    "            icount_replaced += 1\n",
    "            df.set_value(index, 'title_year', int(sum_year))\n",
    "            if icount_replaced < 10: \n",
    "                print(\"{:<45} -> {:<20}\".format(df.loc[index]['movie_title'],int(sum_year)))\n",
    "    return "
   ]
  },
  {
   "cell_type": "code",
   "execution_count": 48,
   "metadata": {
    "_cell_guid": "4003dd66-21ba-4147-9b89-9fc210d2ef93",
    "_execution_state": "idle",
    "_kg_hide-input": false,
    "_uuid": "3880a1845967b1ebee89cce627f99d6c79e8d168",
    "collapsed": true
   },
   "outputs": [],
   "source": [
    "fill_year(df_filling)"
   ]
  },
  {
   "cell_type": "markdown",
   "metadata": {
    "_cell_guid": "21267377-9e73-47cb-9b9b-2ef28fee32fd",
    "_uuid": "e093750e29f10cd54b5ab1eb834d6feb8780113c"
   },
   "source": [
    "___\n",
    "#### 2.3.2 Extracting keywords from the title\n",
    "\n",
    "As previously outlined, keywords will play an important role in the functioning of the engine. Hence, I try to fill missing values in the **plot_keywords** variable using the words of the title. To do so, I create the list of synonyms of all the words contained in the title and I check if any of these synonyms are already in the keyword list. When it is the case, I add this keyword to the entry:"
   ]
  },
  {
   "cell_type": "code",
   "execution_count": 49,
   "metadata": {
    "_cell_guid": "46559ffb-0d45-49fa-8998-64bf3cdf4cd7",
    "_kg_hide-input": true,
    "_uuid": "594f3ca1c69e1b48d3991ec25bbdc8532dff36cc",
    "collapsed": true
   },
   "outputs": [],
   "source": [
    "icount = 0\n",
    "for index, row in df_filling[df_filling['plot_keywords'].isnull()].iterrows():\n",
    "    icount += 1\n",
    "    liste_mot = row['movie_title'].strip().split()\n",
    "    new_keyword = []\n",
    "    for s in liste_mot:\n",
    "        lemma = get_synonymes(s)\n",
    "        for t in list(lemma):\n",
    "            if t in keywords: \n",
    "                new_keyword.append(t)                \n",
    "    if new_keyword and icount < 15: \n",
    "        print('{:<50} -> {:<30}'.format(row['movie_title'], str(new_keyword)))\n",
    "    if new_keyword:\n",
    "        df_filling.set_value(index, 'plot_keywords', '|'.join(new_keyword)) "
   ]
  },
  {
   "cell_type": "markdown",
   "metadata": {
    "_cell_guid": "11a7de2e-efd6-4994-814f-0b9ffad65092",
    "_execution_state": "idle",
    "_uuid": "4301edd6073e284b0dbbb309285e56926505baa1"
   },
   "source": [
    "#### 2.3.3 Imputing from regressions\n",
    "\n",
    "In Section 2.4, I had a look at the correlation between variables and found that a few of them showed some degree of correlation, with a Pearson's coefficient > 0.5:"
   ]
  },
  {
   "cell_type": "code",
   "execution_count": 50,
   "metadata": {
    "_cell_guid": "4794b080-ce0d-49e2-96ee-aa575fd75190",
    "_kg_hide-input": true,
    "_uuid": "11d410e74746e1c4f2bb9e6999e8590ef1e21eae"
   },
   "outputs": [
    {
     "data": {
      "image/png": "[encoded data removed]",
      "text/plain": [
       "<matplotlib.figure.Figure at 0x122ccef60>"
      ]
     },
     "metadata": {},
     "output_type": "display_data"
    }
   ],
   "source": [
    "cols = corrmat.nlargest(9, 'num_voted_users')['num_voted_users'].index\n",
    "cm = np.corrcoef(df_keywords_occurence[cols].dropna(how='any').values.T)\n",
    "sns.set(font_scale=1.25)\n",
    "hm = sns.heatmap(cm, cbar=True, annot=True, square=True,\n",
    "                 fmt='.2f', annot_kws={'size': 10}, \n",
    "                 yticklabels=cols.values, xticklabels=cols.values)\n",
    "plt.show()"
   ]
  },
  {
   "cell_type": "markdown",
   "metadata": {
    "_cell_guid": "38c44d7e-b827-4dd6-b5cc-e988f7479f52",
    "_uuid": "cda06d1095e2537c3af680ab2551db83a029b3e1"
   },
   "source": [
    "I will use this finding to fill the missing values of the **gross**, **num_critic_for_reviews**, **num\\_voted\\_users** , and **num_user_for_reviews** variables. To do so, I will make regressions on pairs of correlated variables:"
   ]
  },
  {
   "cell_type": "code",
   "execution_count": 51,
   "metadata": {
    "_cell_guid": "601e2b28-013f-4265-828f-fd8dc42255e3",
    "_kg_hide-input": false,
    "_uuid": "f52bbc66b6340ef0f44777e02c885c900f514380"
   },
   "outputs": [
    {
     "data": {
      "image/png": "[encoded data removed]",
      "text/plain": [
       "<matplotlib.figure.Figure at 0x122d6e4a8>"
      ]
     },
     "metadata": {},
     "output_type": "display_data"
    }
   ],
   "source": [
    "sns.set(font_scale=1.25)\n",
    "cols = ['gross', 'num_voted_users']\n",
    "sns.pairplot(df_filling.dropna(how='any')[cols],diag_kind='kde', size = 2.5)\n",
    "plt.show();"
   ]
  },
  {
   "cell_type": "markdown",
   "metadata": {
    "_cell_guid": "7610696d-7b14-4890-84b1-dc1565566a6c",
    "_uuid": "f7678b48e47d0e71ada629e5a153ed07d62bab05"
   },
   "source": [
    "First, I define a function that impute the missing value from a linear fit of the data:"
   ]
  },
  {
   "cell_type": "code",
   "execution_count": 52,
   "metadata": {
    "_cell_guid": "0ec55b82-5c5f-4533-b144-0ef300d360c5",
    "_kg_hide-input": true,
    "_uuid": "41308c39804d7a212782287ccca2d01b04442218",
    "collapsed": true
   },
   "outputs": [],
   "source": [
    "def variable_linreg_imputation(df, col_to_predict, ref_col):\n",
    "    regr = linear_model.LinearRegression()\n",
    "    test = df[[col_to_predict,ref_col]].dropna(how='any', axis = 0)\n",
    "    X = np.array(test[ref_col])\n",
    "    Y = np.array(test[col_to_predict])\n",
    "    X = X.reshape(len(X),1)\n",
    "    Y = Y.reshape(len(Y),1)\n",
    "    regr.fit(X, Y)\n",
    "    \n",
    "    test = df[df[col_to_predict].isnull() & df[ref_col].notnull()]\n",
    "    for index, row in test.iterrows():\n",
    "        value = float(regr.predict(row[ref_col]))\n",
    "        df.set_value(index, col_to_predict, value)"
   ]
  },
  {
   "cell_type": "markdown",
   "metadata": {
    "_cell_guid": "54356a76-f98d-4442-ab8d-bae990e98bbf",
    "_uuid": "11e14438e4a37b8ad6ea2cab27b05c65465a9818"
   },
   "source": [
    "This function takes the dataframe as input, as well as the names of two columns. A linear fit is performed between those two columns which is used to fill the holes in the first column that was given:"
   ]
  },
  {
   "cell_type": "code",
   "execution_count": 53,
   "metadata": {
    "_cell_guid": "96dd044f-bfac-4982-b9eb-b92160a58cfb",
    "_execution_state": "idle",
    "_kg_hide-input": false,
    "_uuid": "e5476e87d028dd2f2c969e8d46327c65f2e0a1bc",
    "collapsed": true
   },
   "outputs": [],
   "source": [
    "variable_linreg_imputation(df_filling, 'gross', 'num_voted_users')"
   ]
  },
  {
   "cell_type": "markdown",
   "metadata": {
    "_cell_guid": "5040e97b-0db6-4f25-9de4-a1aaa383e435",
    "_uuid": "3ec0a17c0aed905f73f7670e4a981deadffb1be9"
   },
   "source": [
    "Finally, I examine which amount of data is still missing in the dataframe:"
   ]
  },
  {
   "cell_type": "code",
   "execution_count": 54,
   "metadata": {
    "_cell_guid": "de6962e2-a2eb-43d7-8bcd-16c199573ac3",
    "_execution_state": "idle",
    "_kg_hide-input": true,
    "_uuid": "207ebe11431d3dff7a9e39da675decf215f038b2"
   },
   "outputs": [
    {
     "data": {
      "text/html": [
       "<div>\n",
       "<style>\n",
       "    .dataframe thead tr:only-child th {\n",
       "        text-align: right;\n",
       "    }\n",
       "\n",
       "    .dataframe thead th {\n",
       "        text-align: left;\n",
       "    }\n",
       "\n",
       "    .dataframe tbody tr th {\n",
       "        vertical-align: top;\n",
       "    }\n",
       "</style>\n",
       "<table border=\"1\" class=\"dataframe\">\n",
       "  <thead>\n",
       "    <tr style=\"text-align: right;\">\n",
       "      <th></th>\n",
       "      <th>column_name</th>\n",
       "      <th>missing_count</th>\n",
       "      <th>filling_factor</th>\n",
       "    </tr>\n",
       "  </thead>\n",
       "  <tbody>\n",
       "    <tr>\n",
       "      <th>0</th>\n",
       "      <td>homepage</td>\n",
       "      <td>3091</td>\n",
       "      <td>35.644389</td>\n",
       "    </tr>\n",
       "    <tr>\n",
       "      <th>1</th>\n",
       "      <td>tagline</td>\n",
       "      <td>844</td>\n",
       "      <td>82.427649</td>\n",
       "    </tr>\n",
       "    <tr>\n",
       "      <th>2</th>\n",
       "      <td>country</td>\n",
       "      <td>174</td>\n",
       "      <td>96.377264</td>\n",
       "    </tr>\n",
       "    <tr>\n",
       "      <th>3</th>\n",
       "      <td>actor_3_name</td>\n",
       "      <td>93</td>\n",
       "      <td>98.063710</td>\n",
       "    </tr>\n",
       "    <tr>\n",
       "      <th>4</th>\n",
       "      <td>language</td>\n",
       "      <td>86</td>\n",
       "      <td>98.209452</td>\n",
       "    </tr>\n",
       "    <tr>\n",
       "      <th>5</th>\n",
       "      <td>actor_2_name</td>\n",
       "      <td>63</td>\n",
       "      <td>98.688320</td>\n",
       "    </tr>\n",
       "    <tr>\n",
       "      <th>6</th>\n",
       "      <td>actor_1_name</td>\n",
       "      <td>53</td>\n",
       "      <td>98.896523</td>\n",
       "    </tr>\n",
       "    <tr>\n",
       "      <th>7</th>\n",
       "      <td>director_name</td>\n",
       "      <td>30</td>\n",
       "      <td>99.375390</td>\n",
       "    </tr>\n",
       "    <tr>\n",
       "      <th>8</th>\n",
       "      <td>overview</td>\n",
       "      <td>3</td>\n",
       "      <td>99.937539</td>\n",
       "    </tr>\n",
       "    <tr>\n",
       "      <th>9</th>\n",
       "      <td>duration</td>\n",
       "      <td>2</td>\n",
       "      <td>99.958359</td>\n",
       "    </tr>\n",
       "    <tr>\n",
       "      <th>10</th>\n",
       "      <td>title_year</td>\n",
       "      <td>1</td>\n",
       "      <td>99.979180</td>\n",
       "    </tr>\n",
       "    <tr>\n",
       "      <th>11</th>\n",
       "      <td>release_date</td>\n",
       "      <td>1</td>\n",
       "      <td>99.979180</td>\n",
       "    </tr>\n",
       "    <tr>\n",
       "      <th>12</th>\n",
       "      <td>num_voted_users</td>\n",
       "      <td>0</td>\n",
       "      <td>100.000000</td>\n",
       "    </tr>\n",
       "    <tr>\n",
       "      <th>13</th>\n",
       "      <td>vote_average</td>\n",
       "      <td>0</td>\n",
       "      <td>100.000000</td>\n",
       "    </tr>\n",
       "    <tr>\n",
       "      <th>14</th>\n",
       "      <td>movie_title</td>\n",
       "      <td>0</td>\n",
       "      <td>100.000000</td>\n",
       "    </tr>\n",
       "    <tr>\n",
       "      <th>15</th>\n",
       "      <td>budget</td>\n",
       "      <td>0</td>\n",
       "      <td>100.000000</td>\n",
       "    </tr>\n",
       "    <tr>\n",
       "      <th>16</th>\n",
       "      <td>spoken_languages</td>\n",
       "      <td>0</td>\n",
       "      <td>100.000000</td>\n",
       "    </tr>\n",
       "    <tr>\n",
       "      <th>17</th>\n",
       "      <td>production_countries</td>\n",
       "      <td>0</td>\n",
       "      <td>100.000000</td>\n",
       "    </tr>\n",
       "    <tr>\n",
       "      <th>18</th>\n",
       "      <td>production_companies</td>\n",
       "      <td>0</td>\n",
       "      <td>100.000000</td>\n",
       "    </tr>\n",
       "    <tr>\n",
       "      <th>19</th>\n",
       "      <td>popularity</td>\n",
       "      <td>0</td>\n",
       "      <td>100.000000</td>\n",
       "    </tr>\n",
       "    <tr>\n",
       "      <th>20</th>\n",
       "      <td>original_title</td>\n",
       "      <td>0</td>\n",
       "      <td>100.000000</td>\n",
       "    </tr>\n",
       "    <tr>\n",
       "      <th>21</th>\n",
       "      <td>plot_keywords</td>\n",
       "      <td>0</td>\n",
       "      <td>100.000000</td>\n",
       "    </tr>\n",
       "    <tr>\n",
       "      <th>22</th>\n",
       "      <td>id</td>\n",
       "      <td>0</td>\n",
       "      <td>100.000000</td>\n",
       "    </tr>\n",
       "    <tr>\n",
       "      <th>23</th>\n",
       "      <td>genres</td>\n",
       "      <td>0</td>\n",
       "      <td>100.000000</td>\n",
       "    </tr>\n",
       "    <tr>\n",
       "      <th>24</th>\n",
       "      <td>status</td>\n",
       "      <td>0</td>\n",
       "      <td>100.000000</td>\n",
       "    </tr>\n",
       "    <tr>\n",
       "      <th>25</th>\n",
       "      <td>gross</td>\n",
       "      <td>0</td>\n",
       "      <td>100.000000</td>\n",
       "    </tr>\n",
       "  </tbody>\n",
       "</table>\n",
       "</div>"
      ],
      "text/plain": [
       "             column_name  missing_count  filling_factor\n",
       "0               homepage           3091       35.644389\n",
       "1                tagline            844       82.427649\n",
       "2                country            174       96.377264\n",
       "3           actor_3_name             93       98.063710\n",
       "4               language             86       98.209452\n",
       "5           actor_2_name             63       98.688320\n",
       "6           actor_1_name             53       98.896523\n",
       "7          director_name             30       99.375390\n",
       "8               overview              3       99.937539\n",
       "9               duration              2       99.958359\n",
       "10            title_year              1       99.979180\n",
       "11          release_date              1       99.979180\n",
       "12       num_voted_users              0      100.000000\n",
       "13          vote_average              0      100.000000\n",
       "14           movie_title              0      100.000000\n",
       "15                budget              0      100.000000\n",
       "16      spoken_languages              0      100.000000\n",
       "17  production_countries              0      100.000000\n",
       "18  production_companies              0      100.000000\n",
       "19            popularity              0      100.000000\n",
       "20        original_title              0      100.000000\n",
       "21         plot_keywords              0      100.000000\n",
       "22                    id              0      100.000000\n",
       "23                genres              0      100.000000\n",
       "24                status              0      100.000000\n",
       "25                 gross              0      100.000000"
      ]
     },
     "execution_count": 54,
     "metadata": {},
     "output_type": "execute_result"
    }
   ],
   "source": [
    "df = df_filling.copy(deep = True)\n",
    "missing_df = df.isnull().sum(axis=0).reset_index()\n",
    "missing_df.columns = ['column_name', 'missing_count']\n",
    "missing_df['filling_factor'] = (df.shape[0] \n",
    "                                - missing_df['missing_count']) / df.shape[0] * 100\n",
    "missing_df = missing_df.sort_values('filling_factor').reset_index(drop = True)\n",
    "missing_df"
   ]
  },
  {
   "cell_type": "markdown",
   "metadata": {
    "_cell_guid": "79cad186-01bc-4a80-a299-967c6cc62a82",
    "_uuid": "346121f2ed5c6c6703d7ef93fb3052ef9764c1cc"
   },
   "source": [
    "and we can see that in the worst case, the filling factor is around 96% (excluding the **homepage** and **tagline** variables)."
   ]
  },
  {
   "cell_type": "code",
   "execution_count": 55,
   "metadata": {
    "_cell_guid": "31636926-5997-4830-97d4-1c7df1b12b9a",
    "_kg_hide-input": true,
    "_uuid": "aee98f8ad4171834f3fdfafcd58c937bdd5fb54d",
    "collapsed": true
   },
   "outputs": [],
   "source": [
    "df = df_filling.copy(deep=True)\n",
    "df.reset_index(inplace = True, drop = True)"
   ]
  },
  {
   "cell_type": "markdown",
   "metadata": {
    "_cell_guid": "b853bf02-6421-49d8-be8c-551e5a8a82e8",
    "_execution_state": "idle",
    "_uuid": "6ccb23c18bf235400abd5e0b2a4eca49f7b3adaf"
   },
   "source": [
    "___\n",
    "## 3. RECOMMENDATION ENGINE"
   ]
  },
  {
   "cell_type": "markdown",
   "metadata": {
    "_cell_guid": "5486a406-2923-4df8-a659-34de2b5dc396",
    "_uuid": "9620e9305d238f723ed55be57774b92b50a4056c"
   },
   "source": [
    "___\n",
    "### 3.1 Basic functioning of the engine \n",
    " order to build the recommendation engine, I will basically proceed in two steps:\n",
    "- 1/ determine $N$ films with a content similar to the entry provided by the user\n",
    "- 2/ select the 5 most popular films among these $N$ films\n",
    "\n",
    "#### 3.1.1 Similarity\n",
    "When builing the engine, the first step thus consists in defining a criteria that would tell us how close two films are. To do so, I start from the description of the film that was selected by the user: from it, I get the director name, the names of the actors and a few keywords. I then build a matrix where each row corresponds to a film of the database and where the columns correspond to the previous quantities (director + actors + keywords) plus the *k* genres that were described in section 1.4:\n"
   ]
  },
  {
   "cell_type": "markdown",
   "metadata": {
    "_cell_guid": "0fd2e26a-0896-4bc5-9f32-ba22a099f979",
    "_uuid": "e96f32c1757e052c68dd46b716c1a1932ed72d75"
   },
   "source": [
    "|  movie title |director   |actor 1   |actor 2   |actor 3   | keyword 1  | keyword 2   | genre 1 | genre 2 | ... | genre k |\n",
    "|:--:|:--:|:--:|:--:|:--:|:--:|:--:|:--:|:--:|:--:|\n",
    "|Film 1   | $a_{11}$  |  $a_{12}$ |   |   |  ... |   |   |   |   | $a_{1q}$  |\n",
    "|...   |   |   |   |   | ...  |   |   |   |   |   |\n",
    "|Film i   |  $a_{i1}$ | $a_{i2}$ |   |   | $a_{ij}$  |   |   |   |   |  $a_{iq}$ |\n",
    "|...   |   |   |   |   | ...  |   |   |   |   |   |\n",
    "| Film p   |$a_{p1}$   | $a_{p2}$  |   |   | ...  |   |   |   |   | $a_{pq}$  |"
   ]
  },
  {
   "cell_type": "markdown",
   "metadata": {
    "_cell_guid": "b6517052-15b9-44a7-867e-80668b862620",
    "_uuid": "093a84e5a928136e52197bdb00951e6a1dddc4fa"
   },
   "source": [
    "In this matrix, the $a_{ij}$ coefficients take either the value 0 or 1 depending on the correspondance between the significance of column $j$ and the content of film $i$. For exemple, if \"keyword 1\" is in film $i$, we will have $a_{ij}$ = 1 and 0 otherwise. Once this matrix has been defined, we determine the distance between two films according to:\n",
    "\n",
    "\\begin{eqnarray}\n",
    "d_{m, n} = \\sqrt{  \\sum_{i = 1}^{N} \\left( a_{m,i}  - a_{n,i} \\right)^2  } \n",
    "\\end{eqnarray}\n",
    "\n",
    "At this stage, we just have to select the N films which are the closest from the entry selected by the user.\n",
    "\n",
    "#### 3.1.2 Popularity\n",
    "\n",
    "According to similarities between entries, we get a list of $N$ films. At this stage, I select 5 films from this list and, to do so, I give a score for every entry. I decide de compute the score according to 3 criteria:\n",
    "- the IMDB score\n",
    "- the number of votes the entry received\n",
    "- the year of release\n",
    "\n",
    "The two first criteria will be a direct measure of the popularity of the various entries in IMDB. For the third criterium, I introduce the release year since the database spans films from the early $XX^{th}$ century up to now. I assume that people's favorite films will be most of the time from the same epoch.\n",
    "\n",
    "Then, I calculate the score according to the formula:"
   ]
  },
  {
   "cell_type": "markdown",
   "metadata": {
    "_cell_guid": "e59afa4d-ceeb-4c4f-9ac1-1eac8a65ec78",
    "_uuid": "03ee7a76706b7524fedd91700a37541ea19ba264"
   },
   "source": [
    "\n",
    "\\begin{eqnarray}\n",
    "\\mathrm{score} = IMDB^2 \\times \\phi_{\\sigma_1, c_1} \\times  \\phi_{\\sigma_2, c_2}\n",
    "\\end{eqnarray}\n",
    "\n",
    "where $\\phi$ is a gaussian function:\n",
    "\n",
    "\\begin{eqnarray}\n",
    "\\phi_{\\sigma, c}(x) \\propto \\mathrm{exp}\\left(-\\frac{(x-c)^2}{2 \\, \\sigma^2}\\right)\n",
    "\\end{eqnarray}"
   ]
  },
  {
   "cell_type": "markdown",
   "metadata": {
    "_cell_guid": "7a09dd8e-46db-415a-989f-c56fa977ad5a",
    "_uuid": "e01d371a49af9ad899f839b675e93ae54fcc3704"
   },
   "source": [
    "For votes, I get the maximum number of votes among the $N$ films and I set $\\sigma_1 = c_1 = m$. For years, I put $\\sigma_1 = 20$ and I center the gaussian on the title year of the film selected by the user. With the gaussians, I put more weight to the entries with a large number of votes and to the films whose release year is close to the title selected by the user."
   ]
  },
  {
   "cell_type": "markdown",
   "metadata": {
    "_cell_guid": "cee6241c-f240-4b2f-9f76-596d535f8f72",
    "_execution_state": "idle",
    "_uuid": "5d7f9885516fc7947cfb34b285a2732dbea0f589"
   },
   "source": [
    "___\n",
    "### 3.2 Definition of the engine functions"
   ]
  },
  {
   "cell_type": "code",
   "execution_count": 56,
   "metadata": {
    "_cell_guid": "62cb16a3-0a13-429f-a187-ec960d393480",
    "_kg_hide-input": true,
    "_uuid": "21fb280962ab91d0e770d3a9a90b898164e27c40",
    "collapsed": true
   },
   "outputs": [],
   "source": [
    "gaussian_filter = lambda x,y,sigma: math.exp(-(x-y)**2/(2*sigma**2))"
   ]
  },
  {
   "cell_type": "markdown",
   "metadata": {
    "_cell_guid": "237b934a-36e4-47e5-8150-740de0a3dc01",
    "_execution_state": "idle",
    "_uuid": "892feb73f1f43979191540d417a2ec2f772d92c0"
   },
   "source": [
    " **Function collecting some variables content**: the *entry\\_variables()* function returns the values taken by the variables *'director\\_name', 'actor\\_N\\_name'* (N $\\in$ [1:3]) and *'plot\\_keywords'* for the film selected by the user."
   ]
  },
  {
   "cell_type": "code",
   "execution_count": 57,
   "metadata": {
    "_cell_guid": "85c5b8f4-fc43-4aa7-a416-4f21d5519476",
    "_execution_state": "idle",
    "_kg_hide-input": true,
    "_uuid": "1d90e930fbaa1d25d4723bd18032315f197abc08",
    "collapsed": true
   },
   "outputs": [],
   "source": [
    "def entry_variables(df, id_entry): \n",
    "    col_labels = []    \n",
    "    if pd.notnull(df['director_name'].iloc[id_entry]):\n",
    "        for s in df['director_name'].iloc[id_entry].split('|'):\n",
    "            col_labels.append(s)\n",
    "            \n",
    "    for i in range(3):\n",
    "        column = 'actor_NUM_name'.replace('NUM', str(i+1))\n",
    "        if pd.notnull(df[column].iloc[id_entry]):\n",
    "            for s in df[column].iloc[id_entry].split('|'):\n",
    "                col_labels.append(s)\n",
    "                \n",
    "    if pd.notnull(df['plot_keywords'].iloc[id_entry]):\n",
    "        for s in df['plot_keywords'].iloc[id_entry].split('|'):\n",
    "            col_labels.append(s)\n",
    "    return col_labels"
   ]
  },
  {
   "cell_type": "markdown",
   "metadata": {
    "_cell_guid": "130b1f06-8563-47ff-b441-a1a6cd36e794",
    "_execution_state": "idle",
    "_uuid": "92724d4c93fc72db9cf2f6491307701cddb43fce"
   },
   "source": [
    " **Function adding variables to the dataframe**: the function *add\\_variables()* add a list of variables to the dataframe given in input and initialize these variables at 0 or 1 depending on the correspondance with the description of the films and the content of the REF_VAR variable given in input."
   ]
  },
  {
   "cell_type": "code",
   "execution_count": 58,
   "metadata": {
    "_cell_guid": "75a1a621-1e82-4a99-a91c-ab8461349d37",
    "_execution_state": "idle",
    "_kg_hide-input": true,
    "_uuid": "7a2dd4d35fc6cd6d0654c03f45626ab8a367005f",
    "collapsed": true
   },
   "outputs": [],
   "source": [
    "def add_variables(df, REF_VAR):    \n",
    "    for s in REF_VAR: df[s] = pd.Series([0 for _ in range(len(df))])\n",
    "    colonnes = ['genres', 'actor_1_name', 'actor_2_name',\n",
    "                'actor_3_name', 'director_name', 'plot_keywords']\n",
    "    for categorie in colonnes:\n",
    "        for index, row in df.iterrows():\n",
    "            if pd.isnull(row[categorie]): continue\n",
    "            for s in row[categorie].split('|'):\n",
    "                if s in REF_VAR: df.set_value(index, s, 1)            \n",
    "    return df"
   ]
  },
  {
   "cell_type": "markdown",
   "metadata": {
    "_cell_guid": "1fafda6a-cc7f-43b8-9b5f-ed1dc40ccdd6",
    "_execution_state": "idle",
    "_uuid": "de9831121580d3340bfc17cd7bf4245fc12789be"
   },
   "source": [
    " **Function creating a list of films**: the *recommand()* function create a list of N (= 31) films similar to the film selected by the user."
   ]
  },
  {
   "cell_type": "code",
   "execution_count": 59,
   "metadata": {
    "_cell_guid": "26a12500-7211-4b62-92d0-017ced42be10",
    "_execution_state": "idle",
    "_kg_hide-input": true,
    "_uuid": "82b1e339bf506c77bbfe8d286b1a84f07f517dcb",
    "collapsed": true
   },
   "outputs": [],
   "source": [
    "def recommand(df, id_entry):    \n",
    "    df_copy = df.copy(deep = True)    \n",
    "    liste_genres = set()\n",
    "    for s in df['genres'].str.split('|').values:\n",
    "        liste_genres = liste_genres.union(set(s))    \n",
    "    #_____________________________________________________\n",
    "    # Create additional variables to check the similarity\n",
    "    variables = entry_variables(df_copy, id_entry)\n",
    "    variables += list(liste_genres)\n",
    "    df_new = add_variables(df_copy, variables)\n",
    "    #____________________________________________________________________________________\n",
    "    # determination of the closest neighbors: the distance is calculated / new variables\n",
    "    X = df_new.as_matrix(variables)\n",
    "    nbrs = NearestNeighbors(n_neighbors=31, algorithm='auto', metric='euclidean').fit(X)\n",
    "\n",
    "    distances, indices = nbrs.kneighbors(X)    \n",
    "    xtest = df_new.iloc[id_entry].as_matrix(variables)\n",
    "    xtest = xtest.reshape(1, -1)\n",
    "\n",
    "    distances, indices = nbrs.kneighbors(xtest)\n",
    "\n",
    "    return indices[0][:]\n",
    "    "
   ]
  },
  {
   "cell_type": "markdown",
   "metadata": {
    "_cell_guid": "7a43a8fc-46cd-42b8-a189-40d12af3cf58",
    "_execution_state": "idle",
    "_uuid": "32ae86b33647f04602d539d3882fff9032862ec1"
   },
   "source": [
    " **Function extracting some parameters from a list of films**: the *create\\_film\\_selection()* function extracts some variables of the dataframe given in input and returns this list for a selection of N films. This list is ordered according to criteria established in the *critere\\_selection()* function."
   ]
  },
  {
   "cell_type": "code",
   "execution_count": 60,
   "metadata": {
    "_cell_guid": "8ac3da95-3e1f-42d0-b3d7-e8af68838a5f",
    "_execution_state": "idle",
    "_kg_hide-input": true,
    "_uuid": "446ff6e9a17fd4846af97814d19320380bd9dd40",
    "collapsed": true
   },
   "outputs": [],
   "source": [
    "def extract_parameters(df, liste_films):     \n",
    "    parametres_films = ['_' for _ in range(31)]\n",
    "    i = 0\n",
    "    max_users = -1\n",
    "    for index in liste_films:\n",
    "        parametres_films[i] = list(df.iloc[index][['movie_title', 'title_year',\n",
    "                                        'imdb_score', 'num_user_for_reviews', \n",
    "                                        'num_voted_users']])\n",
    "        parametres_films[i].append(index)\n",
    "        max_users = max(max_users, parametres_films[i][4] )\n",
    "        i += 1\n",
    "        \n",
    "    title_main = parametres_films[0][0]\n",
    "    annee_ref  = parametres_films[0][1]\n",
    "    parametres_films.sort(key = lambda x:critere_selection(title_main, max_users,\n",
    "                                    annee_ref, x[0], x[1], x[2], x[4]), reverse = True)\n",
    "\n",
    "    return parametres_films "
   ]
  },
  {
   "cell_type": "markdown",
   "metadata": {
    "_cell_guid": "963b7f76-f471-4c37-985c-b2be09925cb8",
    "_execution_state": "idle",
    "_uuid": "322d73e737403a7a13f45072376ec74f5f16e171"
   },
   "source": [
    " **Function comparing 2 film titles**: the sequel *sequel()* function compares the 2 titles passed in input and defines if these titles are similar or not."
   ]
  },
  {
   "cell_type": "code",
   "execution_count": 61,
   "metadata": {
    "_cell_guid": "c95d6c81-3dd0-4470-bbf5-10dd4fe4bb7b",
    "_execution_state": "idle",
    "_kg_hide-input": true,
    "_uuid": "eea92a88f609b43180774347baef19957db59ea8",
    "collapsed": true
   },
   "outputs": [],
   "source": [
    "def sequel(titre_1, titre_2):    \n",
    "    if fuzz.ratio(titre_1, titre_2) > 50 or fuzz.token_set_ratio(titre_1, titre_2) > 50:\n",
    "        return True\n",
    "    else:\n",
    "        return False"
   ]
  },
  {
   "cell_type": "markdown",
   "metadata": {
    "_cell_guid": "702e07ac-249d-4805-bad6-4f617704624c",
    "_execution_state": "idle",
    "_uuid": "046f69a734e8d4ad681080974eb1129767de83e0"
   },
   "source": [
    " **Function giving marks to films**: the *critere\\_selection()* function gives a mark to a film depending on its IMDB score,  the title year and the number of users who have voted for this film."
   ]
  },
  {
   "cell_type": "code",
   "execution_count": 62,
   "metadata": {
    "_cell_guid": "581eee7e-e59e-4682-93d9-275bfa390af7",
    "_execution_state": "idle",
    "_kg_hide-input": true,
    "_uuid": "48b315a6e757587d1315b6c56dd9337df685ea7d",
    "collapsed": true
   },
   "outputs": [],
   "source": [
    "def critere_selection(title_main, max_users, annee_ref, titre, annee, imdb_score, votes):    \n",
    "    if pd.notnull(annee_ref):\n",
    "        facteur_1 = gaussian_filter(annee_ref, annee, 20)\n",
    "    else:\n",
    "        facteur_1 = 1        \n",
    "\n",
    "    sigma = max_users * 1.0\n",
    "\n",
    "    if pd.notnull(votes):\n",
    "        facteur_2 = gaussian_filter(votes, max_users, sigma)\n",
    "    else:\n",
    "        facteur_2 = 0\n",
    "        \n",
    "    if sequel(title_main, titre):\n",
    "        note = 0\n",
    "    else:\n",
    "        note = imdb_score**2 * facteur_1 * facteur_2\n",
    "    \n",
    "    return note"
   ]
  },
  {
   "cell_type": "markdown",
   "metadata": {
    "_cell_guid": "931b569b-e514-4a6b-87bd-12b6f9cccc65",
    "_execution_state": "idle",
    "_uuid": "d0966aa6b920e1cb337736bb8eb3b1d6917c3386"
   },
   "source": [
    " **Function adding films**: the *add\\_to\\_selection()* function complete the *film\\_selection* list which contains 5 films that will be recommended to the user. The films are selected from the *parametres\\_films* list and are taken into account only if the title is different enough from other film titles. "
   ]
  },
  {
   "cell_type": "code",
   "execution_count": 63,
   "metadata": {
    "_cell_guid": "5d135a13-9d18-42f0-bb11-fadd222ab5c4",
    "_execution_state": "idle",
    "_kg_hide-input": true,
    "_uuid": "7d29d3af3d1af2c0fdaa6c1e3e704f3a4c035553",
    "collapsed": true
   },
   "outputs": [],
   "source": [
    "def add_to_selection(film_selection, parametres_films):    \n",
    "    film_list = film_selection[:]\n",
    "    icount = len(film_list)    \n",
    "    for i in range(31):\n",
    "        already_in_list = False\n",
    "        for s in film_selection:\n",
    "            if s[0] == parametres_films[i][0]: already_in_list = True\n",
    "            if sequel(parametres_films[i][0], s[0]): already_in_list = True            \n",
    "        if already_in_list: continue\n",
    "        icount += 1\n",
    "        if icount <= 5:\n",
    "            film_list.append(parametres_films[i])\n",
    "    return film_list"
   ]
  },
  {
   "cell_type": "markdown",
   "metadata": {
    "_cell_guid": "904c97a3-96e9-4725-bb2e-f716818f64b9",
    "_execution_state": "idle",
    "_uuid": "ea6d6fd278d33e07a1dd03d3aee916060d2ab1e4"
   },
   "source": [
    " **Function filtering sequels**: the *remove\\_sequels()* function remove sequels from the list if more that two films from a serie are present. The older one is kept."
   ]
  },
  {
   "cell_type": "code",
   "execution_count": 64,
   "metadata": {
    "_cell_guid": "a2b84c57-11ef-4243-a580-a3c6b27f9f07",
    "_execution_state": "idle",
    "_kg_hide-input": true,
    "_uuid": "cad0f673f0ad065a4733d858e5ac1fa04ece5b3f",
    "collapsed": true
   },
   "outputs": [],
   "source": [
    "def remove_sequels(film_selection):    \n",
    "    removed_from_selection = []\n",
    "    for i, film_1 in enumerate(film_selection):\n",
    "        for j, film_2 in enumerate(film_selection):\n",
    "            if j <= i: continue \n",
    "            if sequel(film_1[0], film_2[0]): \n",
    "                last_film = film_2[0] if film_1[1] < film_2[1] else film_1[0]\n",
    "                removed_from_selection.append(last_film)\n",
    "\n",
    "    film_list = [film for film in film_selection if film[0] not in removed_from_selection]\n",
    "\n",
    "    return film_list   "
   ]
  },
  {
   "cell_type": "markdown",
   "metadata": {
    "_cell_guid": "8b200e48-ddc1-4c8a-93ea-4baf5e66a928",
    "_execution_state": "idle",
    "_uuid": "7fa2e75cfc0fc52cc72b9603e0be2193acab69f2"
   },
   "source": [
    "**Main function**: create a list of 5 films that will be recommended to the user."
   ]
  },
  {
   "cell_type": "code",
   "execution_count": 65,
   "metadata": {
    "_cell_guid": "5bb9e4ef-5738-40b5-9932-413d3ebfaee0",
    "_execution_state": "idle",
    "_kg_hide-input": true,
    "_uuid": "813652bfc50c5039ccee918c788d83c697db2184",
    "collapsed": true
   },
   "outputs": [],
   "source": [
    "def find_similarities(df, id_entry, del_sequels = True, verbose = False):    \n",
    "    if verbose: \n",
    "        print(90*'_' + '\\n' + \"QUERY: films similar to id={} -> '{}'\".format(id_entry,\n",
    "                                df.iloc[id_entry]['movie_title']))\n",
    "    #____________________________________\n",
    "    liste_films = recommand(df, id_entry)\n",
    "    #__________________________________\n",
    "    # Create a list of 31 films\n",
    "    parametres_films = extract_parameters(df, liste_films)\n",
    "    #_______________________________________\n",
    "    # Select 5 films from this list\n",
    "    film_selection = []\n",
    "    film_selection = add_to_selection(film_selection, parametres_films)\n",
    "    #__________________________________\n",
    "    # delation of the sequels\n",
    "    if del_sequels: film_selection = remove_sequels(film_selection)\n",
    "    #______________________________________________\n",
    "    # add new films to complete the list\n",
    "    film_selection = add_to_selection(film_selection, parametres_films)\n",
    "    #_____________________________________________\n",
    "    selection_titres = []\n",
    "    for i,s in enumerate(film_selection):\n",
    "        selection_titres.append([s[0].replace(u'\\xa0', u''), s[5]])\n",
    "        if verbose: print(\"nº{:<2}     -> {:<30}\".format(i+1, s[0]))\n",
    "\n",
    "    return selection_titres"
   ]
  },
  {
   "cell_type": "markdown",
   "metadata": {
    "_cell_guid": "f68a74be-be9b-4e51-9911-6bd606f0572f",
    "_uuid": "aec817162f2bad174e0f5308bdb358215ebef28c"
   },
   "source": [
    "___\n",
    "### 3.3 Making meaningful recommendations"
   ]
  },
  {
   "cell_type": "markdown",
   "metadata": {
    "_cell_guid": "7f6ea0da-ecc0-4b51-b0f7-22db5b3ba2a1",
    "_uuid": "b7adeec5e4dea1c2772aadd239071d692b21b081"
   },
   "source": [
    "While building the recommendation engine, we are quickly faced to a big issue: the existence of sequels make that some recommendations may seem quite dumb ... As an exemple, somebody who enjoyed *\"Pirates of the Caribbean: Dead Man's Chest\"* would probably not like to be adviced to watch this: "
   ]
  },
  {
   "cell_type": "code",
   "execution_count": 66,
   "metadata": {
    "_cell_guid": "ea519e73-734d-407a-a584-c61dbeeb46bd",
    "_kg_hide-input": true,
    "_uuid": "64a13dc4374c7ee55309fdffb055662cbf1d0657",
    "scrolled": false
   },
   "outputs": [
    {
     "name": "stdout",
     "output_type": "stream",
     "text": [
      "__________________________________________________________________________________________\n",
      "QUERY: films similar to id=12 -> 'Pirates of the Caribbean: Dead Man's Chest'\n",
      "nº1      -> Pirates of the Caribbean: Dead Man's Chest\n",
      "nº2      -> Pirates of the Caribbean: At World's End\n",
      "nº3      -> Pirates of the Caribbean: The Curse of the Black Pearl\n",
      "nº4      -> Pirates of the Caribbean: On Stranger Tides\n",
      "nº5      -> Cutthroat Island              \n"
     ]
    }
   ],
   "source": [
    "dum = find_similarities(df, 12, del_sequels = False, verbose = True)"
   ]
  },
  {
   "cell_type": "markdown",
   "metadata": {
    "_cell_guid": "f5a8132b-97a0-46bc-92c4-174ffa01f6a9",
    "_uuid": "cc0f0b3cecca2fd0374804509d8b122062ee1c5e"
   },
   "source": [
    "Unfortunately, if we build the engine according to the functionalities described in Section 3.1, this is what we are told !!\n",
    "\n",
    "The origin of that issue is quite easily understood: many blockbusters have sequels that share the same director, actors and keywords ... Most of the time, the fact that sequels exist mean that it was a \"fair\" box-office success, which is a synonym of a good IMDB score. Usually, there's an inheritence of success among sequels which entail that according to the way the current engine is built, it is quite probable that if the engine matches one film of a serie, it will end recommending various of them. In the previous exemple, we see that the engine recommends the three films of the *\"Lord of the ring\"* trilogy, as well as *\"Thor\"* and *\"Thor: the dark world\"*. Well, I would personnaly not make that kind of recommendations to a friend ... \n",
    "\n",
    "Hence, I tried to find a way to prevent that kind of behaviour and I concluded that the quickest way to do it would be to work on the film's titles. To do so, I used the **fuzzywuzzy** package to build the *remove_sequels()* function. This function defines the degree of similarity of two film titles and if too close, the most recent film is removed from the list of recommendations. Using this function on the previous exemple, we end with the following recommendations:"
   ]
  },
  {
   "cell_type": "code",
   "execution_count": 67,
   "metadata": {
    "_cell_guid": "236af221-77d2-4640-b2d2-f3c906456066",
    "_kg_hide-input": true,
    "_uuid": "5750eef6bfff94f7639b2d3e829be5385606677b"
   },
   "outputs": [
    {
     "name": "stdout",
     "output_type": "stream",
     "text": [
      "__________________________________________________________________________________________\n",
      "QUERY: films similar to id=12 -> 'Pirates of the Caribbean: Dead Man's Chest'\n",
      "nº1      -> Pirates of the Caribbean: The Curse of the Black Pearl\n",
      "nº2      -> Cutthroat Island              \n",
      "nº3      -> Red Sonja                     \n",
      "nº4      -> Thor: The Dark World          \n",
      "nº5      -> The Lord of the Rings: The Fellowship of the Ring\n"
     ]
    }
   ],
   "source": [
    "dum = find_similarities(df, 12, del_sequels = True, verbose = True)"
   ]
  },
  {
   "cell_type": "markdown",
   "metadata": {
    "_cell_guid": "39269e39-33c9-4673-98a1-34fcfdecf8d6",
    "_uuid": "d1af897c6b97b5dd15b1c9e5ebd229c2792b0329"
   },
   "source": [
    "which seems far more reasonable !! \n",
    "\n",
    "But, well, nothing is perfect. This way of discarding some recommendations assumes that there is a a continuity in the names of films pertaining to a serie. This is however not always the case:"
   ]
  },
  {
   "cell_type": "code",
   "execution_count": 68,
   "metadata": {
    "_cell_guid": "a397f34f-7d99-4a18-bc0e-01a7595fa47c",
    "_kg_hide-input": true,
    "_uuid": "40f98d28f0245209fea6db021e9439b85e864da4",
    "scrolled": true
   },
   "outputs": [
    {
     "name": "stdout",
     "output_type": "stream",
     "text": [
      "__________________________________________________________________________________________\n",
      "QUERY: films similar to id=2 -> 'Spectre'\n",
      "nº1      -> Spectre                       \n",
      "nº2      -> Skyfall                       \n",
      "nº3      -> Quantum of Solace             \n",
      "nº4      -> The Art of War                \n",
      "nº5      -> Kick-Ass 2                    \n"
     ]
    }
   ],
   "source": [
    "dum = find_similarities(df, 2, del_sequels = True, verbose = True)"
   ]
  },
  {
   "cell_type": "markdown",
   "metadata": {
    "_cell_guid": "a557dc37-8c37-4aee-9692-0728ea32512f",
    "_uuid": "537a334bf594468cb39da8892943f4f8831a89cb",
    "collapsed": true
   },
   "source": [
    "Here, the user selected a film from the James Bond serie, *'Spectre'*, and the engine recommends him two other James Bond films, *'Casino Royale'* and *'Skyfall'*. Well, I guess that people who enjoyed *'Spectre'* will know that there is not a unique film featuring James Bond, and the current recommendation thus looks a bit irrelevant ..."
   ]
  },
  {
   "cell_type": "markdown",
   "metadata": {
    "_cell_guid": "f24f6a4b-5fe3-4729-a3f8-87f1f17b2ea9",
    "_execution_state": "idle",
    "_uuid": "7829d84f33e21476eacd3ff0817089672fb297a9"
   },
   "source": [
    "___\n",
    "### 3.4 Exemple of recommendation: test-case"
   ]
  },
  {
   "cell_type": "code",
   "execution_count": 69,
   "metadata": {
    "_cell_guid": "77d8abd4-b367-4f22-b60e-5f4503acfe2d",
    "_execution_state": "idle",
    "_kg_hide-input": true,
    "_uuid": "f9458123bdb67554a13ee84c1ca00fffa52ebe74",
    "scrolled": true
   },
   "outputs": [
    {
     "name": "stdout",
     "output_type": "stream",
     "text": [
      "__________________________________________________________________________________________\n",
      "QUERY: films similar to id=0 -> 'Avatar'\n",
      "nº1      -> Avatar                        \n",
      "nº2      -> Star Trek Into Darkness       \n",
      "nº3      -> Jupiter Ascending             \n",
      "nº4      -> The Fifth Element             \n",
      "nº5      -> Pirates of the Caribbean: On Stranger Tides\n",
      "__________________________________________________________________________________________\n",
      "QUERY: films similar to id=3 -> 'The Dark Knight Rises'\n",
      "nº1      -> The Dark Knight               \n",
      "nº2      -> Batman & Robin                \n",
      "nº3      -> Kick-Ass                      \n",
      "nº4      -> Hitman                        \n",
      "nº5      -> Double Impact                 \n",
      "__________________________________________________________________________________________\n",
      "QUERY: films similar to id=6 -> 'Tangled'\n",
      "nº1      -> Tangled                       \n",
      "nº2      -> Pinocchio                     \n",
      "nº3      -> Ponyo                         \n",
      "nº4      -> Toy Story 3                   \n",
      "nº5      -> The Princess and the Frog     \n",
      "__________________________________________________________________________________________\n",
      "QUERY: films similar to id=9 -> 'Batman v Superman: Dawn of Justice'\n",
      "nº1      -> Man of Steel                  \n",
      "nº2      -> Superman                      \n",
      "nº3      -> Batman Returns                \n",
      "nº4      -> Thor                          \n",
      "nº5      -> Thor: The Dark World          \n",
      "__________________________________________________________________________________________\n",
      "QUERY: films similar to id=12 -> 'Pirates of the Caribbean: Dead Man's Chest'\n",
      "nº1      -> Pirates of the Caribbean: The Curse of the Black Pearl\n",
      "nº2      -> Cutthroat Island              \n",
      "nº3      -> Red Sonja                     \n",
      "nº4      -> Thor: The Dark World          \n",
      "nº5      -> The Lord of the Rings: The Fellowship of the Ring\n",
      "__________________________________________________________________________________________\n",
      "QUERY: films similar to id=15 -> 'The Chronicles of Narnia: Prince Caspian'\n",
      "nº1      -> Alice in Wonderland           \n",
      "nº2      -> The Wizard of Oz              \n",
      "nº3      -> The NeverEnding Story         \n",
      "nº4      -> Pan                           \n",
      "nº5      -> The Spiderwick Chronicles     \n",
      "__________________________________________________________________________________________\n",
      "QUERY: films similar to id=18 -> 'Men in Black 3'\n",
      "nº1      -> Attack the Block              \n",
      "nº2      -> Men in Black                  \n",
      "nº3      -> Death Race 2000               \n",
      "nº4      -> My Stepmother is an Alien     \n",
      "nº5      -> Superhero Movie               \n"
     ]
    }
   ],
   "source": [
    "selection = dict()\n",
    "for i in range(0, 20, 3):\n",
    "    selection[i] = find_similarities(df, i, del_sequels = True, verbose = True)"
   ]
  },
  {
   "cell_type": "markdown",
   "metadata": {
    "_cell_guid": "0b486de5-92ae-4eb1-ba62-3fd8d5cf24ca",
    "_uuid": "3645426d44f9b80fbd6c1531a857c9b42667fb89",
    "collapsed": true
   },
   "source": [
    "___\n",
    "## 4. Conclusion: possible improvements and points to adress\n",
    "\n",
    "Finally a few things were not considered when building the engine and they should deserve some attention:\n",
    "- the language of the film was not checked: in fact, this could be important to get sure that the films recommended are in the same language than the one choosen by the user\n",
    "- another point concerns the replacement of the keywords by more frequent synonyms. In some cases, it was shown that the synonyms selected had a different meaning that the original word. Definitely, the whole process might deserve more attention and be improved.\n",
    "- another improvement could be to create a list of connections between actors to see which are the actors that use to play in similar movies (I started an analysis in that direction in [another notebook](https://www.kaggle.com/fabiendaniel/categorizing-actors)). Hence, rather than only looking at the actors who are in the film selected by the user, we could enlarge this list by a few more people. Something similar could be done also with the directors.\n",
    "- extend the detections of sequels to films that don't share similar titles (e.g. James Bond serie)"
   ]
  },
  {
   "cell_type": "markdown",
   "metadata": {
    "_cell_guid": "ced7593b-60e7-481b-abb7-3776a4827982",
    "_uuid": "2362174ff175fb1e8f3bffb299ca3512a933f748"
   },
   "source": [
    "*Thanks a lot for reaching this point of the notebook !! <br>\n",
    "If you see anything wrong or something that could be improved, please, tell me !!* <br>\n",
    "\n",
    "**If you found some interest in this notebook, thanks for upvoting !!**"
   ]
  }
 ],
 "metadata": {
  "kernelspec": {
   "display_name": "Python [Root]",
   "language": "python",
   "name": "Python [Root]"
  },
  "language_info": {
   "codemirror_mode": {
    "name": "ipython",
    "version": 3
   },
   "file_extension": ".py",
   "mimetype": "text/x-python",
   "name": "python",
   "nbconvert_exporter": "python",
   "pygments_lexer": "ipython3",
   "version": "3.5.3"
  }
 },
 "nbformat": 4,
 "nbformat_minor": 2
}
